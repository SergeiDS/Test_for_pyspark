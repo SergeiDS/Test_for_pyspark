{
  "cells": [
    {
      "cell_type": "markdown",
      "metadata": {
        "pycharm": {
          "name": "#%% md\n"
        },
        "id": "nTlKOAFQDUuF"
      },
      "source": [
        "# Data Validation in Model Serving"
      ]
    },
    {
      "cell_type": "markdown",
      "metadata": {
        "pycharm": {
          "name": "#%% md\n"
        },
        "id": "2s83ueQPDUuI"
      },
      "source": [
        "In this notebook, we will go through the process of validating data in the serving phase of the data science pipeline."
      ]
    },
    {
      "cell_type": "markdown",
      "metadata": {
        "pycharm": {
          "name": "#%% md\n"
        },
        "id": "gql_mN-qDUuJ"
      },
      "source": [
        "[![Open In Colab](https://colab.research.google.com/assets/colab-badge.svg)](https://colab.research.google.com/github/NatanMish/data_validation/blob/main/notebooks/3_model_serving_data_validation.ipynb)"
      ]
    },
    {
      "cell_type": "markdown",
      "metadata": {
        "pycharm": {
          "name": "#%% md\n"
        },
        "id": "RyJw9ygdDUuJ"
      },
      "source": [
        "#### Install the required packages and import them to the notebook"
      ]
    },
    {
      "cell_type": "code",
      "execution_count": 1,
      "metadata": {
        "pycharm": {
          "name": "#%%\n"
        },
        "id": "0pKdsEREDUuK",
        "outputId": "551902d1-397e-458b-a963-1ffd398ebb18",
        "colab": {
          "base_uri": "https://localhost:8080/"
        }
      },
      "outputs": [
        {
          "output_type": "stream",
          "name": "stdout",
          "text": [
            "Looking in indexes: https://pypi.org/simple, https://us-python.pkg.dev/colab-wheels/public/simple/\n",
            "Requirement already satisfied: pydantic in /usr/local/lib/python3.7/dist-packages (1.9.1)\n",
            "Requirement already satisfied: pandas in /usr/local/lib/python3.7/dist-packages (1.3.5)\n",
            "Collecting hypothesis\n",
            "  Downloading hypothesis-6.54.3-py3-none-any.whl (389 kB)\n",
            "\u001b[K     |████████████████████████████████| 389 kB 4.2 MB/s \n",
            "\u001b[?25hRequirement already satisfied: typing-extensions>=3.7.4.3 in /usr/local/lib/python3.7/dist-packages (from pydantic) (4.1.1)\n",
            "Requirement already satisfied: pytz>=2017.3 in /usr/local/lib/python3.7/dist-packages (from pandas) (2022.1)\n",
            "Requirement already satisfied: python-dateutil>=2.7.3 in /usr/local/lib/python3.7/dist-packages (from pandas) (2.8.2)\n",
            "Requirement already satisfied: numpy>=1.17.3 in /usr/local/lib/python3.7/dist-packages (from pandas) (1.21.6)\n",
            "Requirement already satisfied: six>=1.5 in /usr/local/lib/python3.7/dist-packages (from python-dateutil>=2.7.3->pandas) (1.15.0)\n",
            "Requirement already satisfied: sortedcontainers<3.0.0,>=2.1.0 in /usr/local/lib/python3.7/dist-packages (from hypothesis) (2.4.0)\n",
            "Collecting exceptiongroup>=1.0.0rc8\n",
            "  Downloading exceptiongroup-1.0.0rc8-py3-none-any.whl (11 kB)\n",
            "Requirement already satisfied: attrs>=19.2.0 in /usr/local/lib/python3.7/dist-packages (from hypothesis) (22.1.0)\n",
            "Installing collected packages: exceptiongroup, hypothesis\n",
            "Successfully installed exceptiongroup-1.0.0rc8 hypothesis-6.54.3\n"
          ]
        }
      ],
      "source": [
        "!pip install pydantic pandas hypothesis"
      ]
    },
    {
      "cell_type": "code",
      "execution_count": 2,
      "metadata": {
        "pycharm": {
          "name": "#%%\n"
        },
        "id": "6Wo-rgcEDUuL"
      },
      "outputs": [],
      "source": [
        "from pydantic import BaseModel\n",
        "import pandas as pd"
      ]
    },
    {
      "cell_type": "markdown",
      "metadata": {
        "pycharm": {
          "name": "#%% md\n"
        },
        "id": "cCTMZN1kDUuL"
      },
      "source": [
        "Let's remind ourselves the architecture of a modern machine learning model:"
      ]
    },
    {
      "cell_type": "markdown",
      "metadata": {
        "pycharm": {
          "name": "#%% md\n"
        },
        "id": "yqs9LBbkDUuM"
      },
      "source": [
        "<div>\n",
        "<img src=\"https://raw.githubusercontent.com/NatanMish/data_validation/main/notebooks/serving_diagram.png\" width=\"1000\"/>\n",
        "</div>"
      ]
    },
    {
      "cell_type": "markdown",
      "metadata": {
        "pycharm": {
          "name": "#%% md\n"
        },
        "id": "Pyq67dC1DUuM"
      },
      "source": [
        "So we should expect to receive the input for our model via a REST API in, and return the prediction or classification accordingly. An object arriving in the REST API can be a JSON object, but we can also receive a CSV file, txt file etc. For the purposes of this tutorial, we will assume that the input is a JSON object, and we receive it in batches. Let's create a few model inputs straight from the test data:"
      ]
    },
    {
      "cell_type": "code",
      "execution_count": 3,
      "metadata": {
        "pycharm": {
          "name": "#%%\n"
        },
        "id": "oN56HDFbDUuP"
      },
      "outputs": [],
      "source": [
        "test_house_data = pd.read_csv('https://github.com/NatanMish/data_validation/blob/a77b247b25c6622ce0c8f8cbc505228161c31a3c/data/test.csv?raw=true')"
      ]
    },
    {
      "cell_type": "code",
      "execution_count": 4,
      "metadata": {
        "pycharm": {
          "name": "#%%\n"
        },
        "id": "gaYPm7KXDUuQ"
      },
      "outputs": [],
      "source": [
        "feature_names = ['YearBuilt', 'LotFrontage', 'GarageArea', 'OverallQual', 'OverallCond', 'MSZoning','TotalBsmtSF']"
      ]
    },
    {
      "cell_type": "code",
      "execution_count": 5,
      "metadata": {
        "pycharm": {
          "name": "#%%\n"
        },
        "id": "-cEvu0IHDUuR"
      },
      "outputs": [],
      "source": [
        "# we'll choose one record from the test data\n",
        "input_dict = test_house_data[feature_names].loc[1108].to_dict()"
      ]
    },
    {
      "cell_type": "code",
      "execution_count": 6,
      "metadata": {
        "pycharm": {
          "name": "#%%\n"
        },
        "id": "wiNF6THqDUuR",
        "outputId": "6ed42af7-a9a1-4680-f2a3-1cc7d5e8469d",
        "colab": {
          "base_uri": "https://localhost:8080/"
        }
      },
      "outputs": [
        {
          "output_type": "execute_result",
          "data": {
            "text/plain": [
              "{'YearBuilt': 1968,\n",
              " 'LotFrontage': nan,\n",
              " 'GarageArea': 552.0,\n",
              " 'OverallQual': 6,\n",
              " 'OverallCond': 6,\n",
              " 'MSZoning': 'RL',\n",
              " 'TotalBsmtSF': 1488.0}"
            ]
          },
          "metadata": {},
          "execution_count": 6
        }
      ],
      "source": [
        "input_dict"
      ]
    },
    {
      "cell_type": "markdown",
      "metadata": {
        "pycharm": {
          "name": "#%% md\n"
        },
        "id": "i_2oq-bwDUuS"
      },
      "source": [
        "We can already see that one of the features is missing. If our model is not made to handle missing values, it will break and no one wants that."
      ]
    },
    {
      "cell_type": "markdown",
      "metadata": {
        "pycharm": {
          "name": "#%% md\n"
        },
        "id": "7KK02HiDDUuT"
      },
      "source": [
        "<div>\n",
        "<img src=\"https://miro.medium.com/max/959/1*WNd3LXOi5xlDbitxsIARyw.png\" width=\"500\"/>\n",
        "</div>"
      ]
    },
    {
      "cell_type": "markdown",
      "metadata": {
        "pycharm": {
          "name": "#%% md\n"
        },
        "id": "rVv6mpKkDUuT"
      },
      "source": [
        "Pydantic allows data validation and settings management using python type annotations. It enforces type hints at runtime, and provides user-friendly errors when data is invalid. Many great and loved projects are using Pydantic extensively, even the Jupyter project for notebooks we are using right now!\n",
        "Let's see how we can use it to validate our model inputs:"
      ]
    },
    {
      "cell_type": "code",
      "execution_count": 7,
      "metadata": {
        "pycharm": {
          "name": "#%%\n"
        },
        "id": "k7thfjVMDUuU"
      },
      "outputs": [],
      "source": [
        "# The most basic building block of Pydantic is the BaseModel class. We can use it to define our custom models that \n",
        "# define the structure of our objects:\n",
        "class Input(BaseModel):\n",
        "    YearBuilt: int\n",
        "    LotFrontage: int\n",
        "    GarageArea: float\n",
        "    OverallQual: int\n",
        "    OverallCond: int\n",
        "    MSZoning: str\n",
        "    TotalBsmtSF: float"
      ]
    },
    {
      "cell_type": "code",
      "execution_count": 8,
      "metadata": {
        "pycharm": {
          "name": "#%%\n"
        },
        "id": "hiGTrW-dDUuU",
        "outputId": "210346b7-41db-4586-c886-1186731d8b70",
        "colab": {
          "base_uri": "https://localhost:8080/",
          "height": 287
        }
      },
      "outputs": [
        {
          "output_type": "error",
          "ename": "ValidationError",
          "evalue": "ignored",
          "traceback": [
            "\u001b[0;31m---------------------------------------------------------------------------\u001b[0m",
            "\u001b[0;31mValidationError\u001b[0m                           Traceback (most recent call last)",
            "\u001b[0;32m<ipython-input-8-042096e7f5fd>\u001b[0m in \u001b[0;36m<module>\u001b[0;34m\u001b[0m\n\u001b[1;32m      7\u001b[0m     \u001b[0mOverallCond\u001b[0m\u001b[0;34m=\u001b[0m\u001b[0minput_dict\u001b[0m\u001b[0;34m[\u001b[0m\u001b[0;34m'OverallCond'\u001b[0m\u001b[0;34m]\u001b[0m\u001b[0;34m,\u001b[0m\u001b[0;34m\u001b[0m\u001b[0;34m\u001b[0m\u001b[0m\n\u001b[1;32m      8\u001b[0m     \u001b[0mMSZoning\u001b[0m\u001b[0;34m=\u001b[0m\u001b[0minput_dict\u001b[0m\u001b[0;34m[\u001b[0m\u001b[0;34m'MSZoning'\u001b[0m\u001b[0;34m]\u001b[0m\u001b[0;34m,\u001b[0m\u001b[0;34m\u001b[0m\u001b[0;34m\u001b[0m\u001b[0m\n\u001b[0;32m----> 9\u001b[0;31m     \u001b[0mTotalBsmtSF\u001b[0m\u001b[0;34m=\u001b[0m\u001b[0minput_dict\u001b[0m\u001b[0;34m[\u001b[0m\u001b[0;34m'TotalBsmtSF'\u001b[0m\u001b[0;34m]\u001b[0m\u001b[0;34m\u001b[0m\u001b[0;34m\u001b[0m\u001b[0m\n\u001b[0m\u001b[1;32m     10\u001b[0m )\n",
            "\u001b[0;32m/usr/local/lib/python3.7/dist-packages/pydantic/main.cpython-37m-x86_64-linux-gnu.so\u001b[0m in \u001b[0;36mpydantic.main.BaseModel.__init__\u001b[0;34m()\u001b[0m\n",
            "\u001b[0;31mValidationError\u001b[0m: 1 validation error for Input\nLotFrontage\n  value is not a valid integer (type=type_error.integer)"
          ]
        }
      ],
      "source": [
        "# We can now use the Input class, and create a Input object from our sample record like so:\n",
        "model_input_object = Input(\n",
        "    YearBuilt=input_dict['YearBuilt'],\n",
        "    LotFrontage=input_dict['LotFrontage'],\n",
        "    GarageArea=input_dict['GarageArea'],\n",
        "    OverallQual=input_dict['OverallQual'],\n",
        "    OverallCond=input_dict['OverallCond'],\n",
        "    MSZoning=input_dict['MSZoning'],\n",
        "    TotalBsmtSF=input_dict['TotalBsmtSF']\n",
        ")"
      ]
    },
    {
      "cell_type": "markdown",
      "metadata": {
        "pycharm": {
          "name": "#%% md\n"
        },
        "id": "SO3IcuqqDUuV"
      },
      "source": [
        "As we can see, the Input object raised an error while validating because one of the features is missing.\n",
        "Let's see how we can adjust the model, so it can handle missing values:"
      ]
    },
    {
      "cell_type": "code",
      "execution_count": 9,
      "metadata": {
        "pycharm": {
          "name": "#%%\n"
        },
        "id": "99t_BowXDUuW"
      },
      "outputs": [],
      "source": [
        "# What's cool about Pydantic is that it allows leveraging the built-in Python typing definitions.\n",
        "from typing import Optional, Any\n",
        "\n",
        "class Input(BaseModel):\n",
        "    YearBuilt: int\n",
        "    LotFrontage: Optional[Any]\n",
        "    GarageArea: float\n",
        "    OverallQual: int\n",
        "    OverallCond: int\n",
        "    MSZoning: str\n",
        "    TotalBsmtSF: float"
      ]
    },
    {
      "cell_type": "code",
      "source": [
        "input_dict"
      ],
      "metadata": {
        "id": "0v1LKJyLFZPs",
        "outputId": "26197929-d8d3-438d-8ec2-2bf6cf6ffad8",
        "colab": {
          "base_uri": "https://localhost:8080/"
        }
      },
      "execution_count": 11,
      "outputs": [
        {
          "output_type": "execute_result",
          "data": {
            "text/plain": [
              "{'YearBuilt': 1968,\n",
              " 'LotFrontage': nan,\n",
              " 'GarageArea': 552.0,\n",
              " 'OverallQual': 6,\n",
              " 'OverallCond': 6,\n",
              " 'MSZoning': 'RL',\n",
              " 'TotalBsmtSF': 1488.0}"
            ]
          },
          "metadata": {},
          "execution_count": 11
        }
      ]
    },
    {
      "cell_type": "code",
      "execution_count": 10,
      "metadata": {
        "pycharm": {
          "name": "#%%\n"
        },
        "id": "ACbAyZ9pDUuX"
      },
      "outputs": [],
      "source": [
        "# Instead of specifying each field one by one, we can use the **kwargs syntax to specify a list of fields:\n",
        "input_object = Input(**input_dict)\n",
        "inpout_object_2 = Input.parse_obj(input_dict)"
      ]
    },
    {
      "cell_type": "code",
      "execution_count": 14,
      "metadata": {
        "pycharm": {
          "name": "#%%\n"
        },
        "id": "ItWZSk_dDUuX",
        "outputId": "dfb5cfe9-78e4-4862-d1ff-4532ce46911e",
        "colab": {
          "base_uri": "https://localhost:8080/"
        }
      },
      "outputs": [
        {
          "output_type": "execute_result",
          "data": {
            "text/plain": [
              "Input(YearBuilt=1968, LotFrontage=nan, GarageArea=552.0, OverallQual=6, OverallCond=6, MSZoning='RL', TotalBsmtSF=1488.0)"
            ]
          },
          "metadata": {},
          "execution_count": 14
        }
      ],
      "source": [
        "# And this is how our object looks like:\n",
        "input_object"
      ]
    },
    {
      "cell_type": "markdown",
      "metadata": {
        "pycharm": {
          "name": "#%% md\n"
        },
        "id": "uOtgnomODUuY"
      },
      "source": [
        "Here are a few other cool features of Pydantic:"
      ]
    },
    {
      "cell_type": "markdown",
      "metadata": {
        "pycharm": {
          "name": "#%% md\n"
        },
        "id": "NKe9y5wwDUuY"
      },
      "source": [
        "#### 1. Recursive models"
      ]
    },
    {
      "cell_type": "markdown",
      "metadata": {
        "pycharm": {
          "name": "#%% md\n"
        },
        "id": "aKojdhcXDUuZ"
      },
      "source": [
        "Pydantic supports recursive models. This means that we can define a model that contains other models. For example, we can define a model that contains a batch of Input objects:"
      ]
    },
    {
      "cell_type": "code",
      "execution_count": 15,
      "metadata": {
        "pycharm": {
          "name": "#%%\n"
        },
        "id": "2LgyFpMODUuZ"
      },
      "outputs": [],
      "source": [
        "from typing import List\n",
        "\n",
        "class InputBatch(BaseModel):\n",
        "    inputs: List[Input]"
      ]
    },
    {
      "cell_type": "code",
      "execution_count": 16,
      "metadata": {
        "pycharm": {
          "name": "#%%\n"
        },
        "id": "ov0XEwHwDUua",
        "outputId": "de322a12-3a82-4f7f-c2e0-9319510235df",
        "colab": {
          "base_uri": "https://localhost:8080/"
        }
      },
      "outputs": [
        {
          "output_type": "execute_result",
          "data": {
            "text/plain": [
              "{1171: {'YearBuilt': 2005,\n",
              "  'LotFrontage': 92.0,\n",
              "  'GarageArea': 660.0,\n",
              "  'OverallQual': 9,\n",
              "  'OverallCond': 5,\n",
              "  'MSZoning': 'RL',\n",
              "  'TotalBsmtSF': 1390.0},\n",
              " 142: {'YearBuilt': 1896,\n",
              "  'LotFrontage': 66.0,\n",
              "  'GarageArea': 330.0,\n",
              "  'OverallQual': 4,\n",
              "  'OverallCond': 7,\n",
              "  'MSZoning': 'C (all)',\n",
              "  'TotalBsmtSF': 756.0},\n",
              " 129: {'YearBuilt': 1975,\n",
              "  'LotFrontage': 65.0,\n",
              "  'GarageArea': 352.0,\n",
              "  'OverallQual': 6,\n",
              "  'OverallCond': 6,\n",
              "  'MSZoning': 'RL',\n",
              "  'TotalBsmtSF': 1008.0},\n",
              " 1036: {'YearBuilt': 1954,\n",
              "  'LotFrontage': 70.0,\n",
              "  'GarageArea': 332.0,\n",
              "  'OverallQual': 6,\n",
              "  'OverallCond': 6,\n",
              "  'MSZoning': 'RL',\n",
              "  'TotalBsmtSF': 988.0},\n",
              " 1277: {'YearBuilt': 1967,\n",
              "  'LotFrontage': nan,\n",
              "  'GarageArea': 506.0,\n",
              "  'OverallQual': 5,\n",
              "  'OverallCond': 5,\n",
              "  'MSZoning': 'RL',\n",
              "  'TotalBsmtSF': 1584.0}}"
            ]
          },
          "metadata": {},
          "execution_count": 16
        }
      ],
      "source": [
        "# We'll grab a sample of the data:\n",
        "data_sample_dict = test_house_data[feature_names].sample(n=5).to_dict('index')\n",
        "data_sample_dict"
      ]
    },
    {
      "cell_type": "code",
      "execution_count": 17,
      "metadata": {
        "pycharm": {
          "name": "#%%\n"
        },
        "id": "TZLPsnykDUua"
      },
      "outputs": [],
      "source": [
        "# And we can create a InputBatch object from our sample data:\n",
        "inputs_list = [Input(**input_dict) for input_dict in data_sample_dict.values()]\n",
        "input_batch = InputBatch(inputs=inputs_list)"
      ]
    },
    {
      "cell_type": "code",
      "execution_count": 18,
      "metadata": {
        "pycharm": {
          "name": "#%%\n"
        },
        "id": "CXPbzPD_DUub",
        "outputId": "26ca32a6-68f4-48b9-e451-6e4e5ee50331",
        "colab": {
          "base_uri": "https://localhost:8080/"
        }
      },
      "outputs": [
        {
          "output_type": "execute_result",
          "data": {
            "text/plain": [
              "InputBatch(inputs=[Input(YearBuilt=2005, LotFrontage=92.0, GarageArea=660.0, OverallQual=9, OverallCond=5, MSZoning='RL', TotalBsmtSF=1390.0), Input(YearBuilt=1896, LotFrontage=66.0, GarageArea=330.0, OverallQual=4, OverallCond=7, MSZoning='C (all)', TotalBsmtSF=756.0), Input(YearBuilt=1975, LotFrontage=65.0, GarageArea=352.0, OverallQual=6, OverallCond=6, MSZoning='RL', TotalBsmtSF=1008.0), Input(YearBuilt=1954, LotFrontage=70.0, GarageArea=332.0, OverallQual=6, OverallCond=6, MSZoning='RL', TotalBsmtSF=988.0), Input(YearBuilt=1967, LotFrontage=nan, GarageArea=506.0, OverallQual=5, OverallCond=5, MSZoning='RL', TotalBsmtSF=1584.0)])"
            ]
          },
          "metadata": {},
          "execution_count": 18
        }
      ],
      "source": [
        "# And we can see that our object looks like this:\n",
        "input_batch"
      ]
    },
    {
      "cell_type": "markdown",
      "metadata": {
        "pycharm": {
          "name": "#%% md\n"
        },
        "id": "HekpjnN0DUub"
      },
      "source": [
        "#### 2. Enums"
      ]
    },
    {
      "cell_type": "markdown",
      "metadata": {
        "pycharm": {
          "name": "#%% md\n"
        },
        "id": "tLUDy-IuDUub"
      },
      "source": [
        "Pydantic supports enumerations. This means that we can define a model that has a set of predefined values. For example, we can define a model that has a set of values for the MSZoning feature:"
      ]
    },
    {
      "cell_type": "code",
      "execution_count": 19,
      "metadata": {
        "pycharm": {
          "name": "#%%\n"
        },
        "id": "hIQ8w-1aDUuc"
      },
      "outputs": [],
      "source": [
        "from enum import Enum\n",
        "\n",
        "class MSZoning(str, Enum):\n",
        "    C = 'C (all)'\n",
        "    FV = 'FV'\n",
        "    RH = 'RH'\n",
        "    RL = 'RL'\n",
        "    RM = 'RM'"
      ]
    },
    {
      "cell_type": "code",
      "execution_count": 20,
      "metadata": {
        "pycharm": {
          "name": "#%%\n"
        },
        "id": "1hbAn_fzDUuc"
      },
      "outputs": [],
      "source": [
        "# We can then include the enum in our model:\n",
        "class Input(BaseModel):\n",
        "    YearBuilt: int\n",
        "    LotFrontage: Optional[float]\n",
        "    GarageArea: float\n",
        "    OverallQual: int\n",
        "    OverallCond: int\n",
        "    MSZoning: MSZoning\n",
        "    TotalBsmtSF: float"
      ]
    },
    {
      "cell_type": "markdown",
      "metadata": {
        "pycharm": {
          "name": "#%% md\n"
        },
        "id": "XjiAZY0NDUuc"
      },
      "source": [
        "#### 3. Custom base models"
      ]
    },
    {
      "cell_type": "markdown",
      "metadata": {
        "pycharm": {
          "name": "#%% md\n"
        },
        "id": "AhcrqiZxDUud"
      },
      "source": [
        "When developing a model you might end up referencing the model's field names many times in many different places using its literal name, for example:\n",
        "`year_built = model_input_object.YearBuilt`\n",
        "in the case that the field name changes in the future, you might have to update all the places that use the literal name which could be a pain.\n",
        "Luckily, we can define an extended base model that allows us to use the field name directly. Then we can create an enum class that holds the field names and use that whenever we set or get a specific field. If the field name changes in the source, we only have to update the enum class."
      ]
    },
    {
      "cell_type": "code",
      "execution_count": 21,
      "metadata": {
        "pycharm": {
          "name": "#%%\n"
        },
        "id": "wAIdM21iDUud",
        "outputId": "0cfac46b-3d7d-4451-b097-02bf093a066c",
        "colab": {
          "base_uri": "https://localhost:8080/"
        }
      },
      "outputs": [
        {
          "output_type": "execute_result",
          "data": {
            "text/plain": [
              "[Input(YearBuilt=2005, LotFrontage=92.0, GarageArea=660.0, OverallQual=9, OverallCond=5, MSZoning='RL', TotalBsmtSF=1390.0),\n",
              " Input(YearBuilt=1896, LotFrontage=66.0, GarageArea=330.0, OverallQual=4, OverallCond=7, MSZoning='C (all)', TotalBsmtSF=756.0),\n",
              " Input(YearBuilt=1975, LotFrontage=65.0, GarageArea=352.0, OverallQual=6, OverallCond=6, MSZoning='RL', TotalBsmtSF=1008.0),\n",
              " Input(YearBuilt=1954, LotFrontage=70.0, GarageArea=332.0, OverallQual=6, OverallCond=6, MSZoning='RL', TotalBsmtSF=988.0),\n",
              " Input(YearBuilt=1967, LotFrontage=nan, GarageArea=506.0, OverallQual=5, OverallCond=5, MSZoning='RL', TotalBsmtSF=1584.0)]"
            ]
          },
          "metadata": {},
          "execution_count": 21
        }
      ],
      "source": [
        "input_batch.inputs"
      ]
    },
    {
      "cell_type": "code",
      "execution_count": 22,
      "metadata": {
        "pycharm": {
          "name": "#%%\n"
        },
        "id": "aw2y3jKZDUud"
      },
      "outputs": [],
      "source": [
        "class ExtendedBaseModel(BaseModel):\n",
        "    def __getitem__(self, item):\n",
        "        return getattr(self, item)\n",
        "\n",
        "    def __setitem__(self, item, value):\n",
        "        return setattr(self, item, value)"
      ]
    },
    {
      "cell_type": "code",
      "execution_count": 23,
      "metadata": {
        "pycharm": {
          "name": "#%%\n"
        },
        "id": "cKeX93WHDUue",
        "outputId": "8ef60b9c-3503-4464-b6eb-94b26c6dafef",
        "colab": {
          "base_uri": "https://localhost:8080/"
        }
      },
      "outputs": [
        {
          "output_type": "execute_result",
          "data": {
            "text/plain": [
              "1968"
            ]
          },
          "metadata": {},
          "execution_count": 23
        }
      ],
      "source": [
        "# by using the extended base model, we can use a bracket notation to access the field values:\n",
        "class Input(ExtendedBaseModel):\n",
        "    YearBuilt: int\n",
        "    LotFrontage: float\n",
        "    GarageArea: float\n",
        "    OverallQual: int\n",
        "    OverallCond: int\n",
        "    MSZoning: MSZoning\n",
        "    TotalBsmtSF: float\n",
        "\n",
        "input_object = Input(**input_dict)\n",
        "# now we can use a bracket notation to access the field values:\n",
        "input_object['YearBuilt']"
      ]
    },
    {
      "cell_type": "code",
      "execution_count": 24,
      "metadata": {
        "pycharm": {
          "name": "#%%\n"
        },
        "id": "btKL01mDDUue"
      },
      "outputs": [],
      "source": [
        "# Let's create an enum class that holds the field names:\n",
        "class InputFieldNames(str, Enum):\n",
        "    YearBuilt = 'YearBuilt'\n",
        "    LotFrontage = 'LotFrontage'\n",
        "    GarageArea = 'GarageArea'\n",
        "    OverallQual = 'OverallQual'\n",
        "    OverallCond = 'OverallCond'\n",
        "    MSZoning = 'MSZoning'\n",
        "    TotalBsmtSF = 'TotalBsmtSF'"
      ]
    },
    {
      "cell_type": "code",
      "execution_count": 25,
      "metadata": {
        "pycharm": {
          "name": "#%%\n"
        },
        "id": "PaaU3v1DDUuf",
        "outputId": "6a8ac08e-76df-45b7-aebf-a59997d2dd23",
        "colab": {
          "base_uri": "https://localhost:8080/"
        }
      },
      "outputs": [
        {
          "output_type": "execute_result",
          "data": {
            "text/plain": [
              "1968"
            ]
          },
          "metadata": {},
          "execution_count": 25
        }
      ],
      "source": [
        "# and then we can access the field like so:\n",
        "input_object[InputFieldNames.YearBuilt.value]"
      ]
    },
    {
      "cell_type": "markdown",
      "metadata": {
        "pycharm": {
          "name": "#%% md\n"
        },
        "id": "2ixYnc14DUuf"
      },
      "source": [
        "#### 4. Catch invalid data"
      ]
    },
    {
      "cell_type": "markdown",
      "metadata": {
        "pycharm": {
          "name": "#%% md\n"
        },
        "id": "dDkCOUqFDUuf"
      },
      "source": [
        "In the case that an invalid model input arrives, we can catch it, display a warning message, isolate the record and then continue without breaking the model. This can be done using a try except block. This is a common and valid practice in Python called EAFP - \"easier to ask for forgiveness than permission\" which might not be as well recieved in other languages."
      ]
    },
    {
      "cell_type": "code",
      "execution_count": 26,
      "metadata": {
        "pycharm": {
          "name": "#%%\n"
        },
        "id": "eLfGIF_4DUug",
        "outputId": "084e2470-d61b-43d4-9195-1e0a6d9f6542",
        "colab": {
          "base_uri": "https://localhost:8080/"
        }
      },
      "outputs": [
        {
          "output_type": "stream",
          "name": "stdout",
          "text": [
            "Record: {'YearBuilt': 1968, 'LotFrontage': nan, 'GarageArea': 552.0, 'OverallQual': 6, 'OverallCond': 6, 'MSZoning': 'RL', 'TotalBsmtSF': 1488.0}\n",
            "Bad data: [{'loc': ('LotFrontage',), 'msg': 'value is not a valid integer', 'type': 'type_error.integer'}]\n"
          ]
        }
      ],
      "source": [
        "from pydantic import ValidationError\n",
        "\n",
        "class Input(ExtendedBaseModel):\n",
        "    YearBuilt: int\n",
        "    LotFrontage: int\n",
        "    GarageArea: float\n",
        "    OverallQual: int\n",
        "    OverallCond: int\n",
        "    MSZoning: MSZoning\n",
        "    TotalBsmtSF: float\n",
        "\n",
        "try:\n",
        "    model_input_object = Input(**input_dict)\n",
        "except ValidationError as e:\n",
        "    print(f'Record: {input_dict}')\n",
        "    print(f'Bad data: {e.errors()}')\n",
        "\n",
        "    # isolate the record and then continue"
      ]
    },
    {
      "cell_type": "markdown",
      "metadata": {
        "pycharm": {
          "name": "#%% md\n"
        },
        "id": "9ariKUfUDUug"
      },
      "source": [
        "#### 5. Custom validation"
      ]
    },
    {
      "cell_type": "code",
      "execution_count": 27,
      "metadata": {
        "pycharm": {
          "name": "#%%\n"
        },
        "id": "Fu0rgJBTDUuh"
      },
      "outputs": [],
      "source": [
        "from pydantic import validator\n",
        "# Let's create a model input class with a custom validation function that checks that the garage area is greater than 1000\n",
        "class Input(ExtendedBaseModel):\n",
        "    YearBuilt: int\n",
        "    LotFrontage: Optional[float]\n",
        "    GarageArea: float\n",
        "    OverallQual: int\n",
        "    OverallCond: int\n",
        "    MSZoning: MSZoning\n",
        "    TotalBsmtSF: float\n",
        "\n",
        "    @validator('GarageArea')\n",
        "    def check_garage_area(v):\n",
        "        if v % 5 != 0:\n",
        "            raise ValueError('Garage area must be divisible by 5')\n",
        "        return v\n",
        "    \n",
        "    @validator(\n",
        "        \"LotFrontage\",\n",
        "        \"GarageArea\",\n",
        "        pre=False,\n",
        "        each_item=True,\n",
        "    )\n",
        "    def set_metrics_precision(cls, v):\n",
        "        \"\"\"Round all figures to 2 decimal places\"\"\"\n",
        "        return round(v, 2)"
      ]
    },
    {
      "cell_type": "code",
      "execution_count": 28,
      "metadata": {
        "pycharm": {
          "name": "#%%\n"
        },
        "id": "qQv-Il1LDUuh",
        "outputId": "6bc98c7f-1641-4c5c-ca4a-d44311f1b222",
        "colab": {
          "base_uri": "https://localhost:8080/"
        }
      },
      "outputs": [
        {
          "output_type": "execute_result",
          "data": {
            "text/plain": [
              "552.0"
            ]
          },
          "metadata": {},
          "execution_count": 28
        }
      ],
      "source": [
        "# As we can see by the value, the validator should alert us for this record:\n",
        "input_dict['GarageArea']"
      ]
    },
    {
      "cell_type": "code",
      "execution_count": 29,
      "metadata": {
        "pycharm": {
          "name": "#%%\n"
        },
        "id": "otTFQ0akDUuh",
        "outputId": "a750a324-2144-43c2-c573-647082e63d6f",
        "colab": {
          "base_uri": "https://localhost:8080/",
          "height": 235
        }
      },
      "outputs": [
        {
          "output_type": "error",
          "ename": "ValidationError",
          "evalue": "ignored",
          "traceback": [
            "\u001b[0;31m---------------------------------------------------------------------------\u001b[0m",
            "\u001b[0;31mValidationError\u001b[0m                           Traceback (most recent call last)",
            "\u001b[0;32m<ipython-input-29-a2e62ba97d44>\u001b[0m in \u001b[0;36m<module>\u001b[0;34m\u001b[0m\n\u001b[0;32m----> 1\u001b[0;31m \u001b[0minput_object\u001b[0m \u001b[0;34m=\u001b[0m \u001b[0mInput\u001b[0m\u001b[0;34m(\u001b[0m\u001b[0;34m**\u001b[0m\u001b[0minput_dict\u001b[0m\u001b[0;34m)\u001b[0m\u001b[0;34m\u001b[0m\u001b[0;34m\u001b[0m\u001b[0m\n\u001b[0m",
            "\u001b[0;32m/usr/local/lib/python3.7/dist-packages/pydantic/main.cpython-37m-x86_64-linux-gnu.so\u001b[0m in \u001b[0;36mpydantic.main.BaseModel.__init__\u001b[0;34m()\u001b[0m\n",
            "\u001b[0;31mValidationError\u001b[0m: 1 validation error for Input\nGarageArea\n  Garage area must be divisible by 5 (type=value_error)"
          ]
        }
      ],
      "source": [
        "input_object = Input(**input_dict)"
      ]
    },
    {
      "cell_type": "markdown",
      "metadata": {
        "pycharm": {
          "name": "#%% md\n"
        },
        "id": "kSVBm99CDUui"
      },
      "source": [
        "#### Exercise 1 - Pydantic models"
      ]
    },
    {
      "cell_type": "markdown",
      "metadata": {
        "pycharm": {
          "name": "#%% md\n"
        },
        "id": "bLRHSC1nDUui"
      },
      "source": [
        "Create a model class that represents the model input. Not all the checks requested were shown above, for some of them you'll need to have a quick search in the Pydantic documentation. The model class should have the following fields:\n",
        "1. YearBuilt - int - required - non nullable\n",
        "2. Fireplaces - int - optional - nullable\n",
        "3. FireplaceQu - FireplaceQu - optional - nullable - enum values of 'Ex', 'Gd', 'TA', 'Fa', 'Po'. If Fireplaces is greater than 0, FireplaceQu is required.\n",
        "4. Make the input model object immutable so that once it is created, it cannot be changed.\n"
      ]
    },
    {
      "cell_type": "code",
      "source": [
        "from enum import Enum\n",
        "\n",
        "class MSZoning(str, Enum):\n",
        "    C = 'C (all)'\n",
        "    FV = 'FV'\n",
        "    RH = 'RH'\n",
        "    RL = 'RL'\n",
        "    RM = 'RM'"
      ],
      "metadata": {
        "id": "5kHaVTjSmeGT"
      },
      "execution_count": null,
      "outputs": []
    },
    {
      "cell_type": "code",
      "source": [
        "class FireplaceQu(str, Enum):\n",
        "    Ex = 'Ex'\n",
        "    Gd = 'Gd'\n",
        "    TA = 'TA'\n",
        "    Fa = 'Fa'\n",
        "    Po = 'Po'\n",
        "\n",
        "class Input(BaseModel):\n",
        "    YearBuilt: int\n",
        "    Fireplaces: Optional[int]\n",
        "    FireplaceQu: Optional[FireplaceQu]\n",
        "\n",
        "    @validator(\"FireplaceQu\")\n",
        "    @classmethod\n",
        "    def validate_fire_places_quality_field(cls, field_value, values):\n",
        "        if values[\"Fireplaces\"]>0 and field_value is None:\n",
        "            raise ValueError(f\"FireplaceQu is required when Fireplaces is greater than 0\")\n",
        "        return field_value\n",
        "\n",
        "    class Config:\n",
        "        extra = 'forbid'\n",
        "        allow_mutation = False"
      ],
      "metadata": {
        "id": "AzEkvYVxm07i"
      },
      "execution_count": null,
      "outputs": []
    },
    {
      "cell_type": "code",
      "execution_count": 31,
      "metadata": {
        "pycharm": {
          "name": "#%%\n"
        },
        "id": "vOONJSTJDUui"
      },
      "outputs": [],
      "source": [
        "class FireplaceQu(str, Enum):\n",
        "    Ex = 'Ex'\n",
        "    Gd = 'Gd'\n",
        "    TA = 'TA'\n",
        "    Fa = 'Fa'\n",
        "    Po = 'Po'\n",
        "\n",
        "class Input(BaseModel):\n",
        "    YearBuilt: int\n",
        "    Fireplaces: Optional[int]\n",
        "    FireplaceQu: Optional[FireplaceQu]\n",
        "\n",
        "    @validator(\"FireplaceQu\")\n",
        "    @classmethod\n",
        "    def validate_fire_places_quality_field(cls, field_value, values):\n",
        "        if values[\"Fireplaces\"]>0 and field_value is None:\n",
        "          raise ValueError(f'FireplaceQu is required when Fireplaces > 0')\n",
        "        return field_value\n",
        "\n",
        "#    class Config:\n",
        "#        <YOUR CODE HERE>"
      ]
    },
    {
      "cell_type": "code",
      "execution_count": 32,
      "metadata": {
        "pycharm": {
          "name": "#%%\n"
        },
        "id": "LmvrhqD_DUuj"
      },
      "outputs": [],
      "source": [
        "# Let's create a few records and see if the validation works, this is a valid record:\n",
        "input_dict = {\n",
        "    'YearBuilt': '1901',\n",
        "    'Fireplaces': '0',\n",
        "    'FireplaceQu': 'Ex'\n",
        "}\n",
        "input_object = Input(**input_dict)"
      ]
    },
    {
      "cell_type": "code",
      "execution_count": 38,
      "metadata": {
        "pycharm": {
          "name": "#%%\n"
        },
        "id": "1W1_XapFDUuj",
        "outputId": "4ed57daa-efe5-4eee-a172-5476d9ca4075",
        "colab": {
          "base_uri": "https://localhost:8080/",
          "height": 269
        }
      },
      "outputs": [
        {
          "output_type": "error",
          "ename": "ValidationError",
          "evalue": "ignored",
          "traceback": [
            "\u001b[0;31m---------------------------------------------------------------------------\u001b[0m",
            "\u001b[0;31mValidationError\u001b[0m                           Traceback (most recent call last)",
            "\u001b[0;32m<ipython-input-38-1c0665c12102>\u001b[0m in \u001b[0;36m<module>\u001b[0;34m\u001b[0m\n\u001b[1;32m      5\u001b[0m     \u001b[0;34m'FireplaceQu'\u001b[0m\u001b[0;34m:\u001b[0m \u001b[0;32mNone\u001b[0m\u001b[0;34m\u001b[0m\u001b[0;34m\u001b[0m\u001b[0m\n\u001b[1;32m      6\u001b[0m }\n\u001b[0;32m----> 7\u001b[0;31m \u001b[0minput_object\u001b[0m \u001b[0;34m=\u001b[0m \u001b[0mInput\u001b[0m\u001b[0;34m(\u001b[0m\u001b[0;34m**\u001b[0m\u001b[0minput_dict\u001b[0m\u001b[0;34m)\u001b[0m\u001b[0;34m\u001b[0m\u001b[0;34m\u001b[0m\u001b[0m\n\u001b[0m",
            "\u001b[0;32m/usr/local/lib/python3.7/dist-packages/pydantic/main.cpython-37m-x86_64-linux-gnu.so\u001b[0m in \u001b[0;36mpydantic.main.BaseModel.__init__\u001b[0;34m()\u001b[0m\n",
            "\u001b[0;31mValidationError\u001b[0m: 1 validation error for Input\nFireplaceQu\n  FireplaceQu is required when Fireplaces > 0 (type=value_error)"
          ]
        }
      ],
      "source": [
        "# and this is an invalid record:\n",
        "input_dict = {\n",
        "    'YearBuilt': '1901',\n",
        "    'Fireplaces': '1',\n",
        "    'FireplaceQu': None\n",
        "}\n",
        "input_object = Input(**input_dict)"
      ]
    },
    {
      "cell_type": "markdown",
      "metadata": {
        "pycharm": {
          "name": "#%% md\n"
        },
        "id": "PEHv7DkcDUuk"
      },
      "source": [
        "*Exercise solutions can be found in the exercise solutions file in the current directory.*\n",
        "\n",
        "### 6. JSON Serialization\n",
        "After we have received an object, and our model generated an output, we need to serialize it to JSON so we can send it back to the client. We'll start by creating an output model class to define how our output will look like."
      ]
    },
    {
      "cell_type": "code",
      "execution_count": null,
      "metadata": {
        "jupyter": {
          "outputs_hidden": false
        },
        "pycharm": {
          "name": "#%%\n"
        },
        "id": "qymc1K2qDUuk"
      },
      "outputs": [],
      "source": [
        "from datetime import datetime\n",
        "from typing import Tuple\n",
        "from pydantic import confloat, Field\n",
        "from uuid import UUID, uuid4\n",
        "\n",
        "class ImportantFeature(BaseModel):\n",
        "    FeatureName: str\n",
        "    FeatureValue: Any\n",
        "    ImportanceScore: confloat(ge=0, le=1)\n",
        "\n",
        "class HousePricePrediction(BaseModel):\n",
        "    PredictionId: UUID = Field(default_factory=uuid4)\n",
        "    HousePrice: confloat(ge=0)\n",
        "    PredictionGenerationTime: datetime = Field(default_factory=datetime.now)\n",
        "    Explanation: Optional[List[ImportantFeature]]\n",
        "    ConfidenceInterval: Optional[Tuple[float, float]]"
      ]
    },
    {
      "cell_type": "code",
      "execution_count": null,
      "metadata": {
        "jupyter": {
          "outputs_hidden": false
        },
        "pycharm": {
          "name": "#%%\n"
        },
        "id": "fMuuk-0HDUul"
      },
      "outputs": [],
      "source": [
        "# Let's create an output object:\n",
        "output_object = HousePricePrediction(\n",
        "    HousePrice=12345,\n",
        "    Explanation=[\n",
        "        ImportantFeature(FeatureName='YearBuilt', FeatureValue=1901, ImportanceScore=0.5),\n",
        "        ImportantFeature(FeatureName='Fireplaces', FeatureValue=0, ImportanceScore=0.5),\n",
        "        ImportantFeature(FeatureName='FireplaceQu', FeatureValue='Ex', ImportanceScore=0.5)\n",
        "    ],\n",
        "    ConfidenceInterval=(12000, 13000)\n",
        ")\n",
        "output_object"
      ]
    },
    {
      "cell_type": "markdown",
      "metadata": {
        "pycharm": {
          "name": "#%% md\n"
        },
        "id": "UIqk6Ef_DUul"
      },
      "source": [
        "When we want to send this object over an API to the client, we need to serialize it to JSON. We can do this using the `json()` method. This method is super useful because it can detect and handle different fields types and convert them to a JSON friendly format, usually better than just using `json.dumps(output_object)`."
      ]
    },
    {
      "cell_type": "code",
      "execution_count": null,
      "metadata": {
        "jupyter": {
          "outputs_hidden": false
        },
        "pycharm": {
          "name": "#%%\n"
        },
        "id": "FPnWWluMDUum"
      },
      "outputs": [],
      "source": [
        "output_object.json()"
      ]
    },
    {
      "cell_type": "markdown",
      "metadata": {
        "pycharm": {
          "name": "#%% md\n"
        },
        "id": "aRa-VmGVDUum"
      },
      "source": [
        "We can even define custom rules for serialization using the `json_encoders` parameter. This is a dictionary that maps the field names to functions that will be used to serialize the field."
      ]
    },
    {
      "cell_type": "code",
      "execution_count": null,
      "metadata": {
        "jupyter": {
          "outputs_hidden": false
        },
        "pycharm": {
          "name": "#%%\n"
        },
        "id": "EtS0rEJkDUum"
      },
      "outputs": [],
      "source": [
        "def encrypt_feature_value(feature: ImportantFeature, encryption_key=\"some_secret_key\"):\n",
        "    feature.FeatureValue = feature.FeatureValue.encode(encryption_key)\n",
        "    return feature\n",
        "\n",
        "class HousePricePrediction(BaseModel):\n",
        "    PredictionId: UUID = Field(default_factory=uuid4)\n",
        "    HousePrice: confloat(ge=0)\n",
        "    PredictionGenerationTime: datetime = Field(default_factory=datetime.now)\n",
        "    Explanation: Optional[List[ImportantFeature]]\n",
        "    ConfidenceInterval: Optional[Tuple[float, float]]\n",
        "\n",
        "    class Config:\n",
        "        json_encoders = {\n",
        "            'prediction_generation_time': datetime.isoformat,\n",
        "            'explanation': lambda important_features: [encrypt_feature_value(feature_explanation) for feature_explanation in important_features]\n",
        "        }"
      ]
    },
    {
      "cell_type": "markdown",
      "metadata": {
        "pycharm": {
          "name": "#%% md\n"
        },
        "id": "gM6WCHhdDUun"
      },
      "source": [
        "### 7. Hypothesis plugin\n",
        "\n",
        "Hypothesis is a Python package used for property based testing. We can use it in combination with Pydantic as a tool for generating random data and testing the validity of a data model."
      ]
    },
    {
      "cell_type": "code",
      "execution_count": null,
      "metadata": {
        "jupyter": {
          "outputs_hidden": false
        },
        "pycharm": {
          "name": "#%%\n"
        },
        "id": "JQfmC671DUun"
      },
      "outputs": [],
      "source": [
        "from hypothesis import given, strategies as st\n",
        "\n",
        "@given(st.builds(HousePricePrediction))\n",
        "def test_property(instance):\n",
        "    # Hypothesis calls this test function many times with varied Models,\n",
        "    # so you can write a test that should pass given *any* instance.\n",
        "    assert len(str(instance.PredictionId)) == 36\n",
        "    assert instance.HousePrice >= 0\n",
        "    assert instance.PredictionGenerationTime is not None\n",
        "\n",
        "test_property()"
      ]
    },
    {
      "cell_type": "markdown",
      "metadata": {
        "pycharm": {
          "name": "#%% md\n"
        },
        "id": "0-lK4LymDUuo"
      },
      "source": [
        "### 8. Base settings\n",
        "One of the most useful features in Pydantic is the `BaseSettings` class. This class allows for centralising config keys and variables that are used throughout the project. The feature allows three different ways to parse environment variables into the object:"
      ]
    },
    {
      "cell_type": "code",
      "execution_count": null,
      "metadata": {
        "jupyter": {
          "outputs_hidden": false
        },
        "pycharm": {
          "name": "#%%\n"
        },
        "id": "NWigqk3JDUuo"
      },
      "outputs": [],
      "source": [
        "import os\n",
        "os.environ['ENCRYPTION_KEY'] = \"some_secret_key\"\n",
        "os.environ['MY_API_KEY'] = \"my_api_key\"\n",
        "os.environ['REDIS_URL'] = \"redis://redis:6379\""
      ]
    },
    {
      "cell_type": "code",
      "execution_count": null,
      "metadata": {
        "jupyter": {
          "outputs_hidden": false
        },
        "pycharm": {
          "name": "#%%\n"
        },
        "id": "sV_kE3JkDUup"
      },
      "outputs": [],
      "source": [
        "from pydantic import BaseSettings, RedisDsn\n",
        "class ProjectConfig(BaseSettings):\n",
        "    RedisUrl: RedisDsn\n",
        "    ApiKey: str = Field(..., env='MY_API_KEY')\n",
        "    ENCRYPTION_KEY: str\n",
        "\n",
        "    class Config:\n",
        "        fields = {\n",
        "            'RedisUrl': {\n",
        "                'env': ['REDIS_URL']\n",
        "            }\n",
        "        }\n",
        "        case_sensitive = False"
      ]
    },
    {
      "cell_type": "code",
      "execution_count": null,
      "metadata": {
        "jupyter": {
          "outputs_hidden": false
        },
        "pycharm": {
          "name": "#%%\n"
        },
        "id": "KMwACkXHDUup"
      },
      "outputs": [],
      "source": [
        "# This is how the config object looks like:\n",
        "ProjectConfig().dict()"
      ]
    },
    {
      "cell_type": "markdown",
      "metadata": {
        "pycharm": {
          "name": "#%% md\n"
        },
        "id": "aJBfKC2iDUup"
      },
      "source": [
        "### Exercise 2 - Constrained and Strict Field Types\n",
        "In this exercise we will explore what the constraints and strict field types in Pydantic offer us.\n",
        "Create a `Input` model class with the following constraints:\n",
        "1. Amenities is a list of strings, with no more than 5 items.\n",
        "2. HousePrice is a non-coercable(strict) integer between 0 and 10000000, and a multiple of 100.\n",
        "3. PoolBool is a strict boolean, i.e. it must be either `True` or `False`.\n",
        "4. MSZoning is string with max of 20 characters, turns all letters to lower case and must have the word `zone` in it (hint: use regex)."
      ]
    },
    {
      "cell_type": "code",
      "execution_count": null,
      "metadata": {
        "jupyter": {
          "outputs_hidden": false
        },
        "pycharm": {
          "name": "#%%\n"
        },
        "id": "Z-1att3yDUuq"
      },
      "outputs": [],
      "source": [
        "from pydantic import <YOUR CODE HERE>\n",
        "class Input(BaseModel):\n",
        "    <YOUR CODE HERE>"
      ]
    },
    {
      "cell_type": "code",
      "execution_count": null,
      "metadata": {
        "jupyter": {
          "outputs_hidden": false
        },
        "pycharm": {
          "name": "#%%\n"
        },
        "id": "UdzfnvqGDUuq"
      },
      "outputs": [],
      "source": [
        "# This Input model class is valid:\n",
        "Input(\n",
        "  Amenities=['Amenity1', 'Amenity2', 'Amenity3', 'Amenity4', 'Amenity5'],\n",
        "  HousePrice=125000,\n",
        "  PoolBool=True,\n",
        "  MSZoning='1ZONE!'\n",
        ")"
      ]
    },
    {
      "cell_type": "code",
      "execution_count": null,
      "metadata": {
        "jupyter": {
          "outputs_hidden": false
        },
        "pycharm": {
          "name": "#%%\n"
        },
        "id": "jf69lNieDUuq"
      },
      "outputs": [],
      "source": [
        "# This Input model class is invalid:\n",
        "Input(\n",
        "  Amenities=['Amenity1', 'Amenity2', 'Amenity3', 'Amenity4', 'Amenity5', 'Amenity6'],\n",
        "  HousePrice=1250,\n",
        "  PoolBool=1,\n",
        "  MSZoning='1Zne'\n",
        ")"
      ]
    },
    {
      "cell_type": "code",
      "execution_count": null,
      "metadata": {
        "pycharm": {
          "name": "#%%\n"
        },
        "id": "L5BRQf0TDUur"
      },
      "outputs": [],
      "source": [
        ""
      ]
    }
  ],
  "metadata": {
    "kernelspec": {
      "display_name": "Python 3 (ipykernel)",
      "language": "python",
      "name": "python3"
    },
    "language_info": {
      "codemirror_mode": {
        "name": "ipython",
        "version": 3
      },
      "file_extension": ".py",
      "mimetype": "text/x-python",
      "name": "python",
      "nbconvert_exporter": "python",
      "pygments_lexer": "ipython3",
      "version": "3.8.9"
    },
    "colab": {
      "name": "3_model_serving_data_validation.ipynb",
      "provenance": []
    }
  },
  "nbformat": 4,
  "nbformat_minor": 0
}