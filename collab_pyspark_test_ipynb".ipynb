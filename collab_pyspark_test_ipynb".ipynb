{
  "nbformat": 4,
  "nbformat_minor": 0,
  "metadata": {
    "colab": {
      "name": "collab-pyspark_test.ipynb\"",
      "provenance": [],
      "collapsed_sections": [],
      "include_colab_link": true
    },
    "kernelspec": {
      "name": "python3",
      "display_name": "Python 3"
    },
    "language_info": {
      "name": "python"
    }
  },
  "cells": [
    {
      "cell_type": "markdown",
      "metadata": {
        "id": "view-in-github",
        "colab_type": "text"
      },
      "source": [
        "<a href=\"https://colab.research.google.com/github/SergeiDS/Test_for_pyspark/blob/main/collab_pyspark_test_ipynb%22.ipynb\" target=\"_parent\"><img src=\"https://colab.research.google.com/assets/colab-badge.svg\" alt=\"Open In Colab\"/></a>"
      ]
    },
    {
      "cell_type": "markdown",
      "source": [
        "# Установка через pip"
      ],
      "metadata": {
        "id": "LDZmh_CCf2n7"
      }
    },
    {
      "cell_type": "code",
      "execution_count": null,
      "source": [
        "pip install pyspark"
      ],
      "outputs": [
        {
          "output_type": "stream",
          "name": "stdout",
          "text": [
            "Looking in indexes: https://pypi.org/simple, https://us-python.pkg.dev/colab-wheels/public/simple/\n",
            "Collecting pyspark\n",
            "  Downloading pyspark-3.3.0.tar.gz (281.3 MB)\n",
            "\u001b[K     |████████████████████████████████| 281.3 MB 44 kB/s \n",
            "\u001b[?25hCollecting py4j==0.10.9.5\n",
            "  Downloading py4j-0.10.9.5-py2.py3-none-any.whl (199 kB)\n",
            "\u001b[K     |████████████████████████████████| 199 kB 43.0 MB/s \n",
            "\u001b[?25hBuilding wheels for collected packages: pyspark\n",
            "  Building wheel for pyspark (setup.py) ... \u001b[?25l\u001b[?25hdone\n",
            "  Created wheel for pyspark: filename=pyspark-3.3.0-py2.py3-none-any.whl size=281764026 sha256=f6b9801cf9d84e35c144f48ef38e2683f80c61123d66134ebb61cb088de5dfca\n",
            "  Stored in directory: /root/.cache/pip/wheels/7a/8e/1b/f73a52650d2e5f337708d9f6a1750d451a7349a867f928b885\n",
            "Successfully built pyspark\n",
            "Installing collected packages: py4j, pyspark\n",
            "Successfully installed py4j-0.10.9.5 pyspark-3.3.0\n"
          ]
        }
      ],
      "metadata": {
        "colab": {
          "base_uri": "https://localhost:8080/"
        },
        "id": "AQmIemKzefl1",
        "outputId": "3f705688-1166-4082-ffdb-ecb45599550a"
      }
    },
    {
      "cell_type": "code",
      "execution_count": null,
      "source": [
        "from pyspark.sql import SparkSession\n",
        "import pyspark.sql.functions as F"
      ],
      "outputs": [],
      "metadata": {
        "id": "3OqqyacceonY"
      }
    },
    {
      "cell_type": "code",
      "execution_count": null,
      "source": [
        "spark = SparkSession.builder.appName(\"Test\").getOrCreate()"
      ],
      "outputs": [],
      "metadata": {
        "id": "k8CoonXZe12o"
      }
    },
    {
      "cell_type": "code",
      "execution_count": null,
      "source": [
        "spark.version"
      ],
      "outputs": [
        {
          "output_type": "execute_result",
          "data": {
            "text/plain": [
              "'3.3.0'"
            ],
            "application/vnd.google.colaboratory.intrinsic+json": {
              "type": "string"
            }
          },
          "metadata": {},
          "execution_count": 5
        }
      ],
      "metadata": {
        "colab": {
          "base_uri": "https://localhost:8080/",
          "height": 35
        },
        "id": "SR80echne48V",
        "outputId": "cae6acdc-1b37-46c4-f11c-62cdc5143b94"
      }
    },
    {
      "cell_type": "markdown",
      "source": [
        "https://www.kaggle.com/AnalyzeBoston/crimes-in-boston  данные отсюда"
      ],
      "metadata": {
        "id": "Fe7_GpvywMro"
      }
    },
    {
      "cell_type": "code",
      "source": [
        "from google.colab import files\n",
        "files.upload()"
      ],
      "metadata": {
        "colab": {
          "resources": {
            "http://localhost:8080/nbextensions/google.colab/files.js": {
              "data": "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",
              "ok": true,
              "headers": [
                [
                  "content-type",
                  "application/javascript"
                ]
              ],
              "status": 200,
              "status_text": ""
            }
          },
          "base_uri": "https://localhost:8080/",
          "height": 107
        },
        "id": "iG2jTBAbBYKV",
        "outputId": "35f0c851-343e-4a4a-a94c-170192c4139b"
      },
      "execution_count": null,
      "outputs": [
        {
          "output_type": "display_data",
          "data": {
            "text/plain": [
              "<IPython.core.display.HTML object>"
            ],
            "text/html": [
              "\n",
              "     <input type=\"file\" id=\"files-cb54009a-996f-4ebc-a512-341868b3e1d3\" name=\"files[]\" multiple disabled\n",
              "        style=\"border:none\" />\n",
              "     <output id=\"result-cb54009a-996f-4ebc-a512-341868b3e1d3\">\n",
              "      Upload widget is only available when the cell has been executed in the\n",
              "      current browser session. Please rerun this cell to enable.\n",
              "      </output>\n",
              "      <script src=\"/nbextensions/google.colab/files.js\"></script> "
            ]
          },
          "metadata": {}
        },
        {
          "output_type": "stream",
          "name": "stdout",
          "text": [
            "Saving crime.csv to crime.csv\n",
            "Saving offense_codes.csv to offense_codes.csv\n"
          ]
        }
      ]
    },
    {
      "cell_type": "code",
      "source": [
        "codes = spark.read.csv('offense_codes.csv', header = True)\n",
        "crime = spark.read.csv('crime.csv', header = True)"
      ],
      "metadata": {
        "id": "4geHelOQCOMf"
      },
      "execution_count": null,
      "outputs": []
    },
    {
      "cell_type": "code",
      "source": [
        "codes.show(10)"
      ],
      "metadata": {
        "colab": {
          "base_uri": "https://localhost:8080/"
        },
        "id": "nsSDWU_YEMOG",
        "outputId": "685dddf6-f8f1-42c1-e768-61dc4eb04b05"
      },
      "execution_count": null,
      "outputs": [
        {
          "output_type": "stream",
          "name": "stdout",
          "text": [
            "+----+--------------------+\n",
            "|CODE|                NAME|\n",
            "+----+--------------------+\n",
            "| 612|LARCENY PURSE SNA...|\n",
            "| 613| LARCENY SHOPLIFTING|\n",
            "| 615|LARCENY THEFT OF ...|\n",
            "|1731|              INCEST|\n",
            "|3111|LICENSE PREMISE V...|\n",
            "|2646|LIQUOR - DRINKING...|\n",
            "|2204|LIQUOR LAW VIOLATION|\n",
            "|3810|M/V ACCIDENT - IN...|\n",
            "|3801|M/V ACCIDENT - OTHER|\n",
            "|3807|M/V ACCIDENT - OT...|\n",
            "+----+--------------------+\n",
            "only showing top 10 rows\n",
            "\n"
          ]
        }
      ]
    },
    {
      "cell_type": "markdown",
      "source": [
        "Сразу создадим новый столбец в таблице codes, т.к. он будет нужен для определения самых частов типов преступлений, для этого создадим UDF функцию и при помощи обычной питоновской функции оставим необходимую часть строки до разделителя \"-\""
      ],
      "metadata": {
        "id": "J3KZWiu3HwgA"
      }
    },
    {
      "cell_type": "code",
      "source": [
        "def st(x):\n",
        "    return x.partition(' -')[0]\n",
        "convertUDF = F.udf(lambda z: st(z))"
      ],
      "metadata": {
        "id": "nvZ3YvvaHxdu"
      },
      "execution_count": null,
      "outputs": []
    },
    {
      "cell_type": "code",
      "source": [
        "codes = codes.withColumn(\"crime_type\", convertUDF(F.col(\"NAME\")))"
      ],
      "metadata": {
        "id": "mnUCsOAXHxh3"
      },
      "execution_count": null,
      "outputs": []
    },
    {
      "cell_type": "code",
      "source": [
        "codes.show(10)"
      ],
      "metadata": {
        "colab": {
          "base_uri": "https://localhost:8080/"
        },
        "id": "KIRo64IQHxkf",
        "outputId": "62422e32-70f8-437a-b944-296a62a54a0f"
      },
      "execution_count": null,
      "outputs": [
        {
          "output_type": "stream",
          "name": "stdout",
          "text": [
            "+----+--------------------+--------------------+\n",
            "|CODE|                NAME|          crime_type|\n",
            "+----+--------------------+--------------------+\n",
            "| 612|LARCENY PURSE SNA...|LARCENY PURSE SNATCH|\n",
            "| 613| LARCENY SHOPLIFTING| LARCENY SHOPLIFTING|\n",
            "| 615|LARCENY THEFT OF ...|LARCENY THEFT OF ...|\n",
            "|1731|              INCEST|              INCEST|\n",
            "|3111|LICENSE PREMISE V...|LICENSE PREMISE V...|\n",
            "|2646|LIQUOR - DRINKING...|              LIQUOR|\n",
            "|2204|LIQUOR LAW VIOLATION|LIQUOR LAW VIOLATION|\n",
            "|3810|M/V ACCIDENT - IN...|        M/V ACCIDENT|\n",
            "|3801|M/V ACCIDENT - OTHER|        M/V ACCIDENT|\n",
            "|3807|M/V ACCIDENT - OT...|        M/V ACCIDENT|\n",
            "+----+--------------------+--------------------+\n",
            "only showing top 10 rows\n",
            "\n"
          ]
        }
      ]
    },
    {
      "cell_type": "code",
      "source": [
        "crime.show(10)"
      ],
      "metadata": {
        "colab": {
          "base_uri": "https://localhost:8080/"
        },
        "id": "4HGo6nJzR2-l",
        "outputId": "d331ece5-6e01-477a-83e8-06569888e699"
      },
      "execution_count": null,
      "outputs": [
        {
          "output_type": "stream",
          "name": "stdout",
          "text": [
            "+---------------+------------+--------------------+--------------------+--------+--------------+--------+-------------------+----+-----+-----------+----+----------+-----------------+-----------+------------+--------------------+\n",
            "|INCIDENT_NUMBER|OFFENSE_CODE|  OFFENSE_CODE_GROUP| OFFENSE_DESCRIPTION|DISTRICT|REPORTING_AREA|SHOOTING|   OCCURRED_ON_DATE|YEAR|MONTH|DAY_OF_WEEK|HOUR|  UCR_PART|           STREET|        Lat|        Long|            Location|\n",
            "+---------------+------------+--------------------+--------------------+--------+--------------+--------+-------------------+----+-----+-----------+----+----------+-----------------+-----------+------------+--------------------+\n",
            "|     I182070945|       00619|             Larceny|  LARCENY ALL OTHERS|     D14|           808|    null|2018-09-02 13:00:00|2018|    9|     Sunday|  13|  Part One|       LINCOLN ST|42.35779134|-71.13937053|(42.35779134, -71...|\n",
            "|     I182070943|       01402|           Vandalism|           VANDALISM|     C11|           347|    null|2018-08-21 00:00:00|2018|    8|    Tuesday|   0|  Part Two|         HECLA ST|42.30682138|-71.06030035|(42.30682138, -71...|\n",
            "|     I182070941|       03410|               Towed| TOWED MOTOR VEHICLE|      D4|           151|    null|2018-09-03 19:27:00|2018|    9|     Monday|  19|Part Three|      CAZENOVE ST|42.34658879|-71.07242943|(42.34658879, -71...|\n",
            "|     I182070940|       03114|Investigate Property|INVESTIGATE PROPERTY|      D4|           272|    null|2018-09-03 21:16:00|2018|    9|     Monday|  21|Part Three|       NEWCOMB ST|42.33418175|-71.07866441|(42.33418175, -71...|\n",
            "|     I182070938|       03114|Investigate Property|INVESTIGATE PROPERTY|      B3|           421|    null|2018-09-03 21:05:00|2018|    9|     Monday|  21|Part Three|         DELHI ST|42.27536542|-71.09036101|(42.27536542, -71...|\n",
            "|     I182070936|       03820|Motor Vehicle Acc...|M/V ACCIDENT INVO...|     C11|           398|    null|2018-09-03 21:09:00|2018|    9|     Monday|  21|Part Three|       TALBOT AVE|42.29019621|-71.07159012|(42.29019621, -71...|\n",
            "|     I182070933|       00724|          Auto Theft|          AUTO THEFT|      B2|           330|    null|2018-09-03 21:25:00|2018|    9|     Monday|  21|  Part One|      NORMANDY ST|42.30607218|-71.08273260|(42.30607218, -71...|\n",
            "|     I182070932|       03301|     Verbal Disputes|      VERBAL DISPUTE|      B2|           584|    null|2018-09-03 20:39:37|2018|    9|     Monday|  20|Part Three|          LAWN ST|42.32701648|-71.10555088|(42.32701648, -71...|\n",
            "|     I182070931|       00301|             Robbery|    ROBBERY - STREET|      C6|           177|    null|2018-09-03 20:48:00|2018|    9|     Monday|  20|  Part One|MASSACHUSETTS AVE|42.33152148|-71.07085307|(42.33152148, -71...|\n",
            "|     I182070929|       03301|     Verbal Disputes|      VERBAL DISPUTE|     C11|           364|    null|2018-09-03 20:38:00|2018|    9|     Monday|  20|Part Three|        LESLIE ST|42.29514664|-71.05860832|(42.29514664, -71...|\n",
            "+---------------+------------+--------------------+--------------------+--------+--------------+--------+-------------------+----+-----+-----------+----+----------+-----------------+-----------+------------+--------------------+\n",
            "only showing top 10 rows\n",
            "\n"
          ]
        }
      ]
    },
    {
      "cell_type": "code",
      "source": [
        "crime.printSchema()"
      ],
      "metadata": {
        "id": "7CLUEaNFleCc",
        "colab": {
          "base_uri": "https://localhost:8080/"
        },
        "outputId": "33c968d0-1eec-458d-865d-f49f5b502d72"
      },
      "execution_count": null,
      "outputs": [
        {
          "output_type": "stream",
          "name": "stdout",
          "text": [
            "root\n",
            " |-- INCIDENT_NUMBER: string (nullable = true)\n",
            " |-- OFFENSE_CODE: string (nullable = true)\n",
            " |-- OFFENSE_CODE_GROUP: string (nullable = true)\n",
            " |-- OFFENSE_DESCRIPTION: string (nullable = true)\n",
            " |-- DISTRICT: string (nullable = true)\n",
            " |-- REPORTING_AREA: string (nullable = true)\n",
            " |-- SHOOTING: string (nullable = true)\n",
            " |-- OCCURRED_ON_DATE: string (nullable = true)\n",
            " |-- YEAR: string (nullable = true)\n",
            " |-- MONTH: string (nullable = true)\n",
            " |-- DAY_OF_WEEK: string (nullable = true)\n",
            " |-- HOUR: string (nullable = true)\n",
            " |-- UCR_PART: string (nullable = true)\n",
            " |-- STREET: string (nullable = true)\n",
            " |-- Lat: string (nullable = true)\n",
            " |-- Long: string (nullable = true)\n",
            " |-- Location: string (nullable = true)\n",
            "\n"
          ]
        }
      ]
    },
    {
      "cell_type": "markdown",
      "source": [
        "обратим внимание, что Lat и Long строки, переведем их в формат float, т.к. мы будем считать их среднее значение"
      ],
      "metadata": {
        "id": "PPX3Y4UrliAR"
      }
    },
    {
      "cell_type": "code",
      "source": [
        "crime=crime.withColumn('Lat',crime['Lat'].cast(\"float\").alias('Lat'))\n",
        "crime=crime.withColumn('Long',crime['Long'].cast(\"float\").alias('Long'))"
      ],
      "metadata": {
        "id": "xamfskikkVkZ"
      },
      "execution_count": null,
      "outputs": []
    },
    {
      "cell_type": "code",
      "source": [
        "crime.select(\"DISTRICT\").distinct().count()"
      ],
      "metadata": {
        "colab": {
          "base_uri": "https://localhost:8080/"
        },
        "id": "1ZB0McKRXagG",
        "outputId": "cf59abd1-bace-4c57-a560-023858a8268b"
      },
      "execution_count": null,
      "outputs": [
        {
          "output_type": "execute_result",
          "data": {
            "text/plain": [
              "13"
            ]
          },
          "metadata": {},
          "execution_count": 15
        }
      ]
    },
    {
      "cell_type": "code",
      "source": [
        "crime.select(\"DISTRICT\").distinct().show()"
      ],
      "metadata": {
        "colab": {
          "base_uri": "https://localhost:8080/"
        },
        "id": "8sP_SeBuFz3A",
        "outputId": "e9359b11-5925-4846-8374-fd83a8e351e9"
      },
      "execution_count": null,
      "outputs": [
        {
          "output_type": "stream",
          "name": "stdout",
          "text": [
            "+--------+\n",
            "|DISTRICT|\n",
            "+--------+\n",
            "|      C6|\n",
            "|    null|\n",
            "|      B2|\n",
            "|     C11|\n",
            "|     E13|\n",
            "|      B3|\n",
            "|      E5|\n",
            "|     A15|\n",
            "|      A7|\n",
            "|     D14|\n",
            "|      D4|\n",
            "|     E18|\n",
            "|      A1|\n",
            "+--------+\n",
            "\n"
          ]
        }
      ]
    },
    {
      "cell_type": "markdown",
      "source": [
        "Заметим, что уникальных значений для районов 13, но есть null, т.к. в дальнейшнем по заданию нужна будет группировка именно по районам, уберем эти значения из выборки"
      ],
      "metadata": {
        "id": "TFcr1CyXF_c3"
      }
    },
    {
      "cell_type": "code",
      "source": [
        "crime = crime.filter(\"DISTRICT is not NULL\") "
      ],
      "metadata": {
        "id": "qNc1zpoyNWhq"
      },
      "execution_count": null,
      "outputs": []
    },
    {
      "cell_type": "code",
      "source": [
        "crime.select(\"DISTRICT\").distinct().count()"
      ],
      "metadata": {
        "colab": {
          "base_uri": "https://localhost:8080/"
        },
        "id": "3DSTBrglNgOJ",
        "outputId": "de1ab6ae-627e-4c54-f417-ef8b7604e211"
      },
      "execution_count": null,
      "outputs": [
        {
          "output_type": "execute_result",
          "data": {
            "text/plain": [
              "12"
            ]
          },
          "metadata": {},
          "execution_count": 18
        }
      ]
    },
    {
      "cell_type": "code",
      "source": [
        "crime.printSchema()"
      ],
      "metadata": {
        "colab": {
          "base_uri": "https://localhost:8080/"
        },
        "id": "s_4tbm1sbOi1",
        "outputId": "862d55b3-160c-448e-f684-f726802b5b1f"
      },
      "execution_count": null,
      "outputs": [
        {
          "output_type": "stream",
          "name": "stdout",
          "text": [
            "root\n",
            " |-- INCIDENT_NUMBER: string (nullable = true)\n",
            " |-- OFFENSE_CODE: string (nullable = true)\n",
            " |-- OFFENSE_CODE_GROUP: string (nullable = true)\n",
            " |-- OFFENSE_DESCRIPTION: string (nullable = true)\n",
            " |-- DISTRICT: string (nullable = true)\n",
            " |-- REPORTING_AREA: string (nullable = true)\n",
            " |-- SHOOTING: string (nullable = true)\n",
            " |-- OCCURRED_ON_DATE: string (nullable = true)\n",
            " |-- YEAR: string (nullable = true)\n",
            " |-- MONTH: string (nullable = true)\n",
            " |-- DAY_OF_WEEK: string (nullable = true)\n",
            " |-- HOUR: string (nullable = true)\n",
            " |-- UCR_PART: string (nullable = true)\n",
            " |-- STREET: string (nullable = true)\n",
            " |-- Lat: float (nullable = true)\n",
            " |-- Long: float (nullable = true)\n",
            " |-- Location: string (nullable = true)\n",
            "\n"
          ]
        }
      ]
    },
    {
      "cell_type": "code",
      "source": [
        "codes.printSchema()"
      ],
      "metadata": {
        "colab": {
          "base_uri": "https://localhost:8080/"
        },
        "id": "Y1AQ3zO7cbkV",
        "outputId": "8a07cc06-8afe-4a8c-eaa5-a26496f0e169"
      },
      "execution_count": null,
      "outputs": [
        {
          "output_type": "stream",
          "name": "stdout",
          "text": [
            "root\n",
            " |-- CODE: string (nullable = true)\n",
            " |-- NAME: string (nullable = true)\n",
            " |-- crime_type: string (nullable = true)\n",
            "\n"
          ]
        }
      ]
    },
    {
      "cell_type": "markdown",
      "source": [
        "ЗАДАНИЕ"
      ],
      "metadata": {
        "id": "X9iExGwOAPa5"
      }
    },
    {
      "cell_type": "code",
      "source": [
        "crime.select('INCIDENT_NUMBER').distinct().count()"
      ],
      "metadata": {
        "colab": {
          "base_uri": "https://localhost:8080/"
        },
        "id": "Mb7_VHICCERQ",
        "outputId": "53353ab6-1cc0-4d34-c192-59b44cf64799"
      },
      "execution_count": null,
      "outputs": [
        {
          "output_type": "execute_result",
          "data": {
            "text/plain": [
              "280934"
            ]
          },
          "metadata": {},
          "execution_count": 21
        }
      ]
    },
    {
      "cell_type": "markdown",
      "source": [
        "Проанализировав данные в таблице, заметим, что каждое преступление характеризуется его входящим номером(INCIDENT_NUMBER), но под одним номером может быть несколько типов преступлений(OFFENSE_CODE), поэтому в дальнейшем при подсчете количества преступлений будем брать уникальные значения INCIDENT_NUMBER.\n",
        "\n",
        "\n",
        "\"Теоретически существует вариант, что каждое преступление следует считать отдельно, т.е. если у нескольких типов преступлений один номер, то считать каждое отдельно, но т.к. у каждого типа будет одни и те же координаты, было принято решение использовать уникальное значение.\" В реальной задаче стоило бы уточнить ТЗ =)"
      ],
      "metadata": {
        "id": "-65pXnr8Q5Bj"
      }
    },
    {
      "cell_type": "markdown",
      "source": [
        "Для простоты объединим среднее значение широты/долготы по району с общим числом преступлений в районе в одну табличку(total_crime). Группируем по номеру происшествия.\n",
        "По заданию найти:\n",
        "\n",
        "●crimes_total - общее количество преступлений в этом районе\n",
        "\n",
        "● lat - широта координаты района, расчитанная как среднее по всем широтам\n",
        "инцидентов\n",
        "\n",
        "● lng - долгота координаты района, расчитанная как среднее по всем долготам\n",
        "инцидентов\n"
      ],
      "metadata": {
        "id": "PH2cMVSm7m-o"
      }
    },
    {
      "cell_type": "code",
      "source": [
        "total_crime = (\n",
        "    crime\n",
        "    .groupBy(\"DISTRICT\")\n",
        "    .agg(\n",
        "        F.approx_count_distinct('INCIDENT_NUMBER').alias(\"crimes_total\"),\n",
        "         F.avg('Lat').alias(\"lat\"),\n",
        "        F.avg('long').alias(\"lng\") \n",
        "    ))\n",
        "total_crime.show()"
      ],
      "metadata": {
        "id": "SYK6-tPi0yE1",
        "colab": {
          "base_uri": "https://localhost:8080/"
        },
        "outputId": "42274bc4-298c-4bbb-f11b-c07fc3a9b7de"
      },
      "execution_count": null,
      "outputs": [
        {
          "output_type": "stream",
          "name": "stdout",
          "text": [
            "+--------+------------+------------------+------------------+\n",
            "|DISTRICT|crimes_total|               lat|               lng|\n",
            "+--------+------------+------------------+------------------+\n",
            "|      C6|       20337|  42.2121224773585|-70.85561028359758|\n",
            "|      B2|       41788|  42.3160037118871|-71.07569935580469|\n",
            "|     C11|       39282| 42.29263737128488|-71.05125984476538|\n",
            "|     E13|       16582| 42.30980363405438| -71.0980047618084|\n",
            "|      B3|       32197|42.283059397131744|-71.07894938323396|\n",
            "|      E5|       11669| 42.19796996617494|-71.00440886354875|\n",
            "|     A15|        5779| 42.17915540166574|-70.74472495377354|\n",
            "|      A7|       11839| 42.36070265992561|-71.00394839443797|\n",
            "|     D14|       18879| 42.34350730061144| -71.1312545647069|\n",
            "|      D4|       33963|42.341242479947674|-71.07725037365037|\n",
            "|     E18|       16385| 42.26268049226358|-71.11891999428089|\n",
            "|      A1|       30165| 42.33123074202031| -71.0199188480901|\n",
            "+--------+------------+------------------+------------------+\n",
            "\n"
          ]
        }
      ]
    },
    {
      "cell_type": "markdown",
      "source": [
        "● crimes_monthly - медиана числа преступлений в месяц в этом районе. Немного непонятно указано в тз, но будем считать медиану т.е. для каждого района будем считать медиану по месяцам и годам за всю историю наблюдений"
      ],
      "metadata": {
        "id": "LRw9MuijMEDP"
      }
    },
    {
      "cell_type": "code",
      "source": [
        "temp_for_median = (\n",
        "    crime\n",
        "    .groupBy(\"DISTRICT\", \"YEAR\", \"MONTH\")\n",
        "    .agg(\n",
        "        F.approx_count_distinct('INCIDENT_NUMBER').alias(\"crimes_each_month\"),\n",
        "    ))"
      ],
      "metadata": {
        "id": "nDeyJWg3sjN4"
      },
      "execution_count": null,
      "outputs": []
    },
    {
      "cell_type": "code",
      "source": [
        "crime_median = (\n",
        "    temp_for_median\n",
        "    .groupBy(\"DISTRICT\")\n",
        "    .agg(\n",
        "        F.percentile_approx(\"crimes_each_month\", 0.5, F.lit(1000000)).alias(\"crimes_monthly\")\n",
        "    ))\n",
        "crime_median.show()"
      ],
      "metadata": {
        "id": "F5S7CElMsxiP",
        "colab": {
          "base_uri": "https://localhost:8080/"
        },
        "outputId": "e617b30b-9796-450a-d64e-7e10ccddc289"
      },
      "execution_count": null,
      "outputs": [
        {
          "output_type": "stream",
          "name": "stdout",
          "text": [
            "+--------+--------------+\n",
            "|DISTRICT|crimes_monthly|\n",
            "+--------+--------------+\n",
            "|      C6|           532|\n",
            "|      B2|          1133|\n",
            "|     C11|           963|\n",
            "|     E13|           401|\n",
            "|      B3|           797|\n",
            "|      E5|           304|\n",
            "|     A15|           151|\n",
            "|      A7|           318|\n",
            "|     D14|           469|\n",
            "|      D4|           957|\n",
            "|     E18|           399|\n",
            "|      A1|           778|\n",
            "+--------+--------------+\n",
            "\n"
          ]
        }
      ]
    },
    {
      "cell_type": "markdown",
      "source": [
        "● frequent_crime_types - три самых частых crime_type за всю историю наблюдений\n",
        "в этом районе, объединенных через запятую с одним пробелом “, ” ,\n",
        "расположенных в порядке убывания частоты\n",
        "○ crime_type - первая часть NAME из таблицы offense_codes, разбитого по\n",
        "разделителю “-” \n"
      ],
      "metadata": {
        "id": "oAqsWVWxSgI4"
      }
    },
    {
      "cell_type": "markdown",
      "source": [
        "Посмотрим на таблицу codes, обратим внимание что столбец CODE отличается от OFFENSE_CODE из таблички crime, т.к. в crime они все имеют формат 5 символов, т.е. код 612 будет записан как 00612 в crime "
      ],
      "metadata": {
        "id": "UatPdFr4Sjui"
      }
    },
    {
      "cell_type": "code",
      "source": [
        "codes.show(truncate=False)"
      ],
      "metadata": {
        "colab": {
          "base_uri": "https://localhost:8080/"
        },
        "id": "TnNjdiqvSSXR",
        "outputId": "ff1fcc55-2855-4a29-f8ed-a5142bf5017b"
      },
      "execution_count": null,
      "outputs": [
        {
          "output_type": "stream",
          "name": "stdout",
          "text": [
            "+----+------------------------------------------+---------------------------------------+\n",
            "|CODE|NAME                                      |crime_type                             |\n",
            "+----+------------------------------------------+---------------------------------------+\n",
            "|612 |LARCENY PURSE SNATCH - NO FORCE           |LARCENY PURSE SNATCH                   |\n",
            "|613 |LARCENY SHOPLIFTING                       |LARCENY SHOPLIFTING                    |\n",
            "|615 |LARCENY THEFT OF MV PARTS & ACCESSORIES   |LARCENY THEFT OF MV PARTS & ACCESSORIES|\n",
            "|1731|INCEST                                    |INCEST                                 |\n",
            "|3111|LICENSE PREMISE VIOLATION                 |LICENSE PREMISE VIOLATION              |\n",
            "|2646|LIQUOR - DRINKING IN PUBLIC               |LIQUOR                                 |\n",
            "|2204|LIQUOR LAW VIOLATION                      |LIQUOR LAW VIOLATION                   |\n",
            "|3810|M/V ACCIDENT - INVOLVING �BICYCLE - INJURY|M/V ACCIDENT                           |\n",
            "|3801|M/V ACCIDENT - OTHER                      |M/V ACCIDENT                           |\n",
            "|3807|M/V ACCIDENT - OTHER CITY VEHICLE         |M/V ACCIDENT                           |\n",
            "|3803|M/V ACCIDENT - PERSONAL INJURY            |M/V ACCIDENT                           |\n",
            "|3805|M/V ACCIDENT - POLICE VEHICLE             |M/V ACCIDENT                           |\n",
            "|3802|M/V ACCIDENT - PROPERTY �DAMAGE           |M/V ACCIDENT                           |\n",
            "|3205|M/V PLATES - LOST                         |M/V PLATES                             |\n",
            "|123 |MANSLAUGHTER - NON-VEHICLE - NEGLIGENCE   |MANSLAUGHTER                           |\n",
            "|121 |MANSLAUGHTER - VEHICLE - NEGLIGENCE       |MANSLAUGHTER                           |\n",
            "|3501|MISSING PERSON                            |MISSING PERSON                         |\n",
            "|3502|MISSING PERSON - LOCATED                  |MISSING PERSON                         |\n",
            "|3503|MISSING PERSON - NOT REPORTED - LOCATED   |MISSING PERSON                         |\n",
            "|111 |MURDER, NON-NEGLIGIENT MANSLAUGHTER       |MURDER, NON-NEGLIGIENT MANSLAUGHTER    |\n",
            "+----+------------------------------------------+---------------------------------------+\n",
            "only showing top 20 rows\n",
            "\n"
          ]
        }
      ]
    },
    {
      "cell_type": "markdown",
      "source": [
        "Создадим новый столбец, в который запишем код в том же формате, что и в crime"
      ],
      "metadata": {
        "id": "Awuhl5nwS_Vv"
      }
    },
    {
      "cell_type": "code",
      "source": [
        "codes_new = codes.withColumn('zero_',\n",
        "    F.when(5- F.length(\"CODE\")==2,'00').\n",
        "    otherwise('0'))"
      ],
      "metadata": {
        "id": "3kk4zHuDvS4w"
      },
      "execution_count": null,
      "outputs": []
    },
    {
      "cell_type": "code",
      "source": [
        "codes_new =codes_new.withColumn(\"CODE_NEW\", F.concat(F.col(\"zero_\"), F.lit(\"\"), (F.col(\"CODE\")) ))\n",
        "codes_new.show()"
      ],
      "metadata": {
        "id": "Gar6hP6xSEwi",
        "colab": {
          "base_uri": "https://localhost:8080/"
        },
        "outputId": "0dc5fd38-843d-4fee-915b-f1df809a4b06"
      },
      "execution_count": null,
      "outputs": [
        {
          "output_type": "stream",
          "name": "stdout",
          "text": [
            "+----+--------------------+--------------------+-----+--------+\n",
            "|CODE|                NAME|          crime_type|zero_|CODE_NEW|\n",
            "+----+--------------------+--------------------+-----+--------+\n",
            "| 612|LARCENY PURSE SNA...|LARCENY PURSE SNATCH|   00|   00612|\n",
            "| 613| LARCENY SHOPLIFTING| LARCENY SHOPLIFTING|   00|   00613|\n",
            "| 615|LARCENY THEFT OF ...|LARCENY THEFT OF ...|   00|   00615|\n",
            "|1731|              INCEST|              INCEST|    0|   01731|\n",
            "|3111|LICENSE PREMISE V...|LICENSE PREMISE V...|    0|   03111|\n",
            "|2646|LIQUOR - DRINKING...|              LIQUOR|    0|   02646|\n",
            "|2204|LIQUOR LAW VIOLATION|LIQUOR LAW VIOLATION|    0|   02204|\n",
            "|3810|M/V ACCIDENT - IN...|        M/V ACCIDENT|    0|   03810|\n",
            "|3801|M/V ACCIDENT - OTHER|        M/V ACCIDENT|    0|   03801|\n",
            "|3807|M/V ACCIDENT - OT...|        M/V ACCIDENT|    0|   03807|\n",
            "|3803|M/V ACCIDENT - PE...|        M/V ACCIDENT|    0|   03803|\n",
            "|3805|M/V ACCIDENT - PO...|        M/V ACCIDENT|    0|   03805|\n",
            "|3802|M/V ACCIDENT - PR...|        M/V ACCIDENT|    0|   03802|\n",
            "|3205|   M/V PLATES - LOST|          M/V PLATES|    0|   03205|\n",
            "| 123|MANSLAUGHTER - NO...|        MANSLAUGHTER|   00|   00123|\n",
            "| 121|MANSLAUGHTER - VE...|        MANSLAUGHTER|   00|   00121|\n",
            "|3501|      MISSING PERSON|      MISSING PERSON|    0|   03501|\n",
            "|3502|MISSING PERSON - ...|      MISSING PERSON|    0|   03502|\n",
            "|3503|MISSING PERSON - ...|      MISSING PERSON|    0|   03503|\n",
            "| 111|MURDER, NON-NEGLI...|MURDER, NON-NEGLI...|   00|   00111|\n",
            "+----+--------------------+--------------------+-----+--------+\n",
            "only showing top 20 rows\n",
            "\n"
          ]
        }
      ]
    },
    {
      "cell_type": "markdown",
      "source": [
        "Теперь можем заджоинить по кодам"
      ],
      "metadata": {
        "id": "H4Bjnr_fTv9B"
      }
    },
    {
      "cell_type": "code",
      "source": [
        "bdf = crime.join(F.broadcast(codes_new), crime.OFFENSE_CODE == codes_new.CODE_NEW)"
      ],
      "metadata": {
        "id": "O5f1PFJ7SE1Q"
      },
      "execution_count": null,
      "outputs": []
    },
    {
      "cell_type": "code",
      "source": [
        "bdf.show()"
      ],
      "metadata": {
        "colab": {
          "base_uri": "https://localhost:8080/"
        },
        "id": "5klY_1b7SE3m",
        "outputId": "45bebed7-4ea0-4c82-feaa-1b2bf22fff63"
      },
      "execution_count": null,
      "outputs": [
        {
          "output_type": "stream",
          "name": "stdout",
          "text": [
            "+---------------+------------+--------------------+--------------------+--------+--------------+--------+-------------------+----+-----+-----------+----+----------+-----------------+---------+----------+--------------------+----+--------------------+--------------------+-----+--------+\n",
            "|INCIDENT_NUMBER|OFFENSE_CODE|  OFFENSE_CODE_GROUP| OFFENSE_DESCRIPTION|DISTRICT|REPORTING_AREA|SHOOTING|   OCCURRED_ON_DATE|YEAR|MONTH|DAY_OF_WEEK|HOUR|  UCR_PART|           STREET|      Lat|      Long|            Location|CODE|                NAME|          crime_type|zero_|CODE_NEW|\n",
            "+---------------+------------+--------------------+--------------------+--------+--------------+--------+-------------------+----+-----+-----------+----+----------+-----------------+---------+----------+--------------------+----+--------------------+--------------------+-----+--------+\n",
            "|     I182070945|       00619|             Larceny|  LARCENY ALL OTHERS|     D14|           808|    null|2018-09-02 13:00:00|2018|    9|     Sunday|  13|  Part One|       LINCOLN ST| 42.35779| -71.13937|(42.35779134, -71...| 619|LARCENY OTHER $20...|LARCENY OTHER $20...|   00|   00619|\n",
            "|     I182070945|       00619|             Larceny|  LARCENY ALL OTHERS|     D14|           808|    null|2018-09-02 13:00:00|2018|    9|     Sunday|  13|  Part One|       LINCOLN ST| 42.35779| -71.13937|(42.35779134, -71...| 619|  LARCENY ALL OTHERS|  LARCENY ALL OTHERS|   00|   00619|\n",
            "|     I182070943|       01402|           Vandalism|           VANDALISM|     C11|           347|    null|2018-08-21 00:00:00|2018|    8|    Tuesday|   0|  Part Two|         HECLA ST| 42.30682|  -71.0603|(42.30682138, -71...|1402|           VANDALISM|           VANDALISM|    0|   01402|\n",
            "|     I182070943|       01402|           Vandalism|           VANDALISM|     C11|           347|    null|2018-08-21 00:00:00|2018|    8|    Tuesday|   0|  Part Two|         HECLA ST| 42.30682|  -71.0603|(42.30682138, -71...|1402|           VANDALISM|           VANDALISM|    0|   01402|\n",
            "|     I182070941|       03410|               Towed| TOWED MOTOR VEHICLE|      D4|           151|    null|2018-09-03 19:27:00|2018|    9|     Monday|  19|Part Three|      CAZENOVE ST| 42.34659|-71.072426|(42.34658879, -71...|3410| TOWED MOTOR VEHICLE| TOWED MOTOR VEHICLE|    0|   03410|\n",
            "|     I182070941|       03410|               Towed| TOWED MOTOR VEHICLE|      D4|           151|    null|2018-09-03 19:27:00|2018|    9|     Monday|  19|Part Three|      CAZENOVE ST| 42.34659|-71.072426|(42.34658879, -71...|3410| TOWED MOTOR VEHICLE| TOWED MOTOR VEHICLE|    0|   03410|\n",
            "|     I182070940|       03114|Investigate Property|INVESTIGATE PROPERTY|      D4|           272|    null|2018-09-03 21:16:00|2018|    9|     Monday|  21|Part Three|       NEWCOMB ST|42.334183| -71.07867|(42.33418175, -71...|3114|INVESTIGATE PROPERTY|INVESTIGATE PROPERTY|    0|   03114|\n",
            "|     I182070940|       03114|Investigate Property|INVESTIGATE PROPERTY|      D4|           272|    null|2018-09-03 21:16:00|2018|    9|     Monday|  21|Part Three|       NEWCOMB ST|42.334183| -71.07867|(42.33418175, -71...|3114|INVESTIGATE PROPERTY|INVESTIGATE PROPERTY|    0|   03114|\n",
            "|     I182070938|       03114|Investigate Property|INVESTIGATE PROPERTY|      B3|           421|    null|2018-09-03 21:05:00|2018|    9|     Monday|  21|Part Three|         DELHI ST|42.275364| -71.09036|(42.27536542, -71...|3114|INVESTIGATE PROPERTY|INVESTIGATE PROPERTY|    0|   03114|\n",
            "|     I182070938|       03114|Investigate Property|INVESTIGATE PROPERTY|      B3|           421|    null|2018-09-03 21:05:00|2018|    9|     Monday|  21|Part Three|         DELHI ST|42.275364| -71.09036|(42.27536542, -71...|3114|INVESTIGATE PROPERTY|INVESTIGATE PROPERTY|    0|   03114|\n",
            "|     I182070936|       03820|Motor Vehicle Acc...|M/V ACCIDENT INVO...|     C11|           398|    null|2018-09-03 21:09:00|2018|    9|     Monday|  21|Part Three|       TALBOT AVE|42.290195| -71.07159|(42.29019621, -71...|3820|M/V ACCIDENT INVO...|M/V ACCIDENT INVO...|    0|   03820|\n",
            "|     I182070933|       00724|          Auto Theft|          AUTO THEFT|      B2|           330|    null|2018-09-03 21:25:00|2018|    9|     Monday|  21|  Part One|      NORMANDY ST|42.306072| -71.08273|(42.30607218, -71...| 724|          AUTO THEFT|          AUTO THEFT|   00|   00724|\n",
            "|     I182070933|       00724|          Auto Theft|          AUTO THEFT|      B2|           330|    null|2018-09-03 21:25:00|2018|    9|     Monday|  21|  Part One|      NORMANDY ST|42.306072| -71.08273|(42.30607218, -71...| 724|          AUTO THEFT|          AUTO THEFT|   00|   00724|\n",
            "|     I182070932|       03301|     Verbal Disputes|      VERBAL DISPUTE|      B2|           584|    null|2018-09-03 20:39:37|2018|    9|     Monday|  20|Part Three|          LAWN ST|42.327015| -71.10555|(42.32701648, -71...|3301|      VERBAL DISPUTE|      VERBAL DISPUTE|    0|   03301|\n",
            "|     I182070932|       03301|     Verbal Disputes|      VERBAL DISPUTE|      B2|           584|    null|2018-09-03 20:39:37|2018|    9|     Monday|  20|Part Three|          LAWN ST|42.327015| -71.10555|(42.32701648, -71...|3301|      VERBAL DISPUTE|      VERBAL DISPUTE|    0|   03301|\n",
            "|     I182070931|       00301|             Robbery|    ROBBERY - STREET|      C6|           177|    null|2018-09-03 20:48:00|2018|    9|     Monday|  20|  Part One|MASSACHUSETTS AVE| 42.33152|-71.070854|(42.33152148, -71...| 301|ROBBERY - FIREARM...|             ROBBERY|   00|   00301|\n",
            "|     I182070931|       00301|             Robbery|    ROBBERY - STREET|      C6|           177|    null|2018-09-03 20:48:00|2018|    9|     Monday|  20|  Part One|MASSACHUSETTS AVE| 42.33152|-71.070854|(42.33152148, -71...| 301|    ROBBERY - STREET|             ROBBERY|   00|   00301|\n",
            "|     I182070929|       03301|     Verbal Disputes|      VERBAL DISPUTE|     C11|           364|    null|2018-09-03 20:38:00|2018|    9|     Monday|  20|Part Three|        LESLIE ST|42.295147| -71.05861|(42.29514664, -71...|3301|      VERBAL DISPUTE|      VERBAL DISPUTE|    0|   03301|\n",
            "|     I182070929|       03301|     Verbal Disputes|      VERBAL DISPUTE|     C11|           364|    null|2018-09-03 20:38:00|2018|    9|     Monday|  20|Part Three|        LESLIE ST|42.295147| -71.05861|(42.29514664, -71...|3301|      VERBAL DISPUTE|      VERBAL DISPUTE|    0|   03301|\n",
            "|     I182070928|       03301|     Verbal Disputes|      VERBAL DISPUTE|      C6|           913|    null|2018-09-03 19:55:00|2018|    9|     Monday|  19|Part Three|    OCEAN VIEW DR| 42.31958| -71.04033|(42.31957856, -71...|3301|      VERBAL DISPUTE|      VERBAL DISPUTE|    0|   03301|\n",
            "+---------------+------------+--------------------+--------------------+--------+--------------+--------+-------------------+----+-----+-----------+----+----------+-----------------+---------+----------+--------------------+----+--------------------+--------------------+-----+--------+\n",
            "only showing top 20 rows\n",
            "\n"
          ]
        }
      ]
    },
    {
      "cell_type": "markdown",
      "source": [
        "Создадим столбец, в котором проранжируем частоту типов преступления, где 1 - самый частый тип преступления"
      ],
      "metadata": {
        "id": "CzoIPMqUyEbe"
      }
    },
    {
      "cell_type": "code",
      "source": [
        "frequent_crime_types_new = (\n",
        "    bdf\n",
        "    .groupBy(\"DISTRICT\", 'crime_type')\n",
        "    .agg(\n",
        "        F.approx_count_distinct('INCIDENT_NUMBER').alias(\"frequent_crime_types\")\n",
        "    )\n",
        "    .orderBy('frequent_crime_types')\n",
        "    )"
      ],
      "metadata": {
        "id": "lx6qliXryAUX"
      },
      "execution_count": null,
      "outputs": []
    },
    {
      "cell_type": "code",
      "source": [
        "from pyspark.sql.window import Window\n",
        "from pyspark.sql.functions import row_number\n",
        "window_crime  = Window.partitionBy(\"DISTRICT\").orderBy(F.col(\"frequent_crime_types\").desc())\n",
        "\n",
        "freq = frequent_crime_types_new.withColumn(\"row_number\",row_number().over(window_crime))\n",
        "freq.show()"
      ],
      "metadata": {
        "colab": {
          "base_uri": "https://localhost:8080/"
        },
        "id": "scBk8WO62P8f",
        "outputId": "0655d0c0-2b6b-43cf-e048-9f7dd02c3f3a"
      },
      "execution_count": null,
      "outputs": [
        {
          "output_type": "stream",
          "name": "stdout",
          "text": [
            "+--------+--------------------+--------------------+----------+\n",
            "|DISTRICT|          crime_type|frequent_crime_types|row_number|\n",
            "+--------+--------------------+--------------------+----------+\n",
            "|      A1|            PROPERTY|                2639|         1|\n",
            "|      A1|SICK/INJURED/MEDICAL|                2151|         2|\n",
            "|      A1|   ASSAULT & BATTERY|                2127|         3|\n",
            "|      A1|      ASSAULT SIMPLE|                2127|         4|\n",
            "|      A1|LARCENY THEFT FRO...|                1807|         5|\n",
            "|      A1|LARCENY IN A BUIL...|                1807|         6|\n",
            "|      A1|      WARRANT ARREST|                1769|         7|\n",
            "|      A1|  INVESTIGATE PERSON|                1576|         8|\n",
            "|      A1|INVESTIGATE PROPERTY|                1467|         9|\n",
            "|      A1| TOWED MOTOR VEHICLE|                1381|        10|\n",
            "|      A1|        M/V ACCIDENT|                1379|        11|\n",
            "|      A1|                 M/V|                1375|        12|\n",
            "|      A1|LARCENY SHOPLIFTI...|                1347|        13|\n",
            "|      A1| LARCENY SHOPLIFTING|                1347|        14|\n",
            "|      A1|               DRUGS|                1321|        15|\n",
            "|      A1|LARCENY THEFT FRO...|                1264|        16|\n",
            "|      A1|LARCENY NON-ACCES...|                1264|        17|\n",
            "|      A1|           VANDALISM|                1260|        18|\n",
            "|      A1|               FRAUD|                1257|        19|\n",
            "|      A1|             ASSAULT|                1098|        20|\n",
            "+--------+--------------------+--------------------+----------+\n",
            "only showing top 20 rows\n",
            "\n"
          ]
        }
      ]
    },
    {
      "cell_type": "markdown",
      "source": [
        "Создадим столбцы в которые запишем три самых частых преступления и сгруппируем по районам"
      ],
      "metadata": {
        "id": "5Qt4FEZ8W_tg"
      }
    },
    {
      "cell_type": "code",
      "source": [
        "from pyspark.sql.functions import when\n",
        "\n",
        "freq = freq.withColumn(\"crime_1\", when(freq.row_number == \"1\",freq.crime_type)\n",
        "                                 .otherwise(0))\n",
        "freq = freq.withColumn(\"crime_2\", when(freq.row_number == \"2\",freq.crime_type)\n",
        "                                 .otherwise(0))\n",
        "freq = freq.withColumn(\"crime_3\", when(freq.row_number == \"3\",freq.crime_type)\n",
        "                                 .otherwise(0))"
      ],
      "metadata": {
        "id": "yjCLLhH62ezW"
      },
      "execution_count": null,
      "outputs": []
    },
    {
      "cell_type": "code",
      "source": [
        "freq.show()"
      ],
      "metadata": {
        "colab": {
          "base_uri": "https://localhost:8080/"
        },
        "id": "gXBYrUNpObV-",
        "outputId": "18971ae4-042f-45ff-d56a-1be292c9c4dd"
      },
      "execution_count": null,
      "outputs": [
        {
          "output_type": "stream",
          "name": "stdout",
          "text": [
            "+--------+--------------------+--------------------+----------+--------+--------------------+-----------------+\n",
            "|DISTRICT|          crime_type|frequent_crime_types|row_number| crime_1|             crime_2|          crime_3|\n",
            "+--------+--------------------+--------------------+----------+--------+--------------------+-----------------+\n",
            "|      A1|            PROPERTY|                2639|         1|PROPERTY|                   0|                0|\n",
            "|      A1|SICK/INJURED/MEDICAL|                2151|         2|       0|SICK/INJURED/MEDICAL|                0|\n",
            "|      A1|   ASSAULT & BATTERY|                2127|         3|       0|                   0|ASSAULT & BATTERY|\n",
            "|      A1|      ASSAULT SIMPLE|                2127|         4|       0|                   0|                0|\n",
            "|      A1|LARCENY THEFT FRO...|                1807|         5|       0|                   0|                0|\n",
            "|      A1|LARCENY IN A BUIL...|                1807|         6|       0|                   0|                0|\n",
            "|      A1|      WARRANT ARREST|                1769|         7|       0|                   0|                0|\n",
            "|      A1|  INVESTIGATE PERSON|                1576|         8|       0|                   0|                0|\n",
            "|      A1|INVESTIGATE PROPERTY|                1467|         9|       0|                   0|                0|\n",
            "|      A1| TOWED MOTOR VEHICLE|                1381|        10|       0|                   0|                0|\n",
            "|      A1|        M/V ACCIDENT|                1379|        11|       0|                   0|                0|\n",
            "|      A1|                 M/V|                1375|        12|       0|                   0|                0|\n",
            "|      A1|LARCENY SHOPLIFTI...|                1347|        13|       0|                   0|                0|\n",
            "|      A1| LARCENY SHOPLIFTING|                1347|        14|       0|                   0|                0|\n",
            "|      A1|               DRUGS|                1321|        15|       0|                   0|                0|\n",
            "|      A1|LARCENY THEFT FRO...|                1264|        16|       0|                   0|                0|\n",
            "|      A1|LARCENY NON-ACCES...|                1264|        17|       0|                   0|                0|\n",
            "|      A1|           VANDALISM|                1260|        18|       0|                   0|                0|\n",
            "|      A1|               FRAUD|                1257|        19|       0|                   0|                0|\n",
            "|      A1|             ASSAULT|                1098|        20|       0|                   0|                0|\n",
            "+--------+--------------------+--------------------+----------+--------+--------------------+-----------------+\n",
            "only showing top 20 rows\n",
            "\n"
          ]
        }
      ]
    },
    {
      "cell_type": "code",
      "source": [
        "final_freq = (\n",
        "    freq\n",
        "    .groupBy(\"DISTRICT\")\n",
        "    .agg(\n",
        "        F.max('crime_1').alias(\"crime_1-1\"),\n",
        "         F.max('crime_2').alias(\"crime_2-1\"),\n",
        "         F.max('crime_3').alias(\"crime_3-1\")\n",
        "    )\n",
        "    .orderBy('DISTRICT')\n",
        "    )\n",
        "final_freq.show()"
      ],
      "metadata": {
        "id": "3FUVSokp1WG2",
        "colab": {
          "base_uri": "https://localhost:8080/"
        },
        "outputId": "a2f5567f-f405-4ec2-c4df-fa8197346912"
      },
      "execution_count": null,
      "outputs": [
        {
          "output_type": "stream",
          "name": "stdout",
          "text": [
            "+--------+--------------------+--------------------+--------------------+\n",
            "|DISTRICT|           crime_1-1|           crime_2-1|           crime_3-1|\n",
            "+--------+--------------------+--------------------+--------------------+\n",
            "|      A1|            PROPERTY|SICK/INJURED/MEDICAL|   ASSAULT & BATTERY|\n",
            "|     A15|        M/V ACCIDENT|  INVESTIGATE PERSON|                 M/V|\n",
            "|      A7|SICK/INJURED/MEDICAL|  INVESTIGATE PERSON|        M/V ACCIDENT|\n",
            "|      B2|                 M/V|      VERBAL DISPUTE|SICK/INJURED/MEDICAL|\n",
            "|      B3|      VERBAL DISPUTE|  INVESTIGATE PERSON|                 M/V|\n",
            "|     C11|                 M/V|SICK/INJURED/MEDICAL|  INVESTIGATE PERSON|\n",
            "|      C6|SICK/INJURED/MEDICAL|                 M/V|               DRUGS|\n",
            "|     D14| TOWED MOTOR VEHICLE|                 M/V|SICK/INJURED/MEDICAL|\n",
            "|      D4|LARCENY SHOPLIFTI...| LARCENY SHOPLIFTING|            PROPERTY|\n",
            "|     E13|SICK/INJURED/MEDICAL|                 M/V|        M/V ACCIDENT|\n",
            "|     E18|SICK/INJURED/MEDICAL|                 M/V|  INVESTIGATE PERSON|\n",
            "|      E5|SICK/INJURED/MEDICAL|                 M/V|  INVESTIGATE PERSON|\n",
            "+--------+--------------------+--------------------+--------------------+\n",
            "\n"
          ]
        }
      ]
    },
    {
      "cell_type": "markdown",
      "source": [
        "Склеим строки как сказано в тз, т.е. в один столбец с разделителем \",\""
      ],
      "metadata": {
        "id": "uAbTrM1XXX6R"
      }
    },
    {
      "cell_type": "code",
      "source": [
        "from pyspark.sql.functions import concat, lit, col\n",
        " \n",
        "final_crime=final_freq.select(\"DISTRICT\", concat(col(\"crime_1-1\"),lit(\", \"), col(\"crime_2-1\"),lit(\", \"), col(\"crime_3-1\")).alias(\"frequent_crime_types\"))\n",
        "final_crime.show(truncate = False)"
      ],
      "metadata": {
        "colab": {
          "base_uri": "https://localhost:8080/"
        },
        "id": "rKlqd0MI3npL",
        "outputId": "3b6197e9-525e-45e1-b67a-6102a662272b"
      },
      "execution_count": null,
      "outputs": [
        {
          "output_type": "stream",
          "name": "stdout",
          "text": [
            "+--------+--------------------------------------------------------------+\n",
            "|DISTRICT|frequent_crime_types                                          |\n",
            "+--------+--------------------------------------------------------------+\n",
            "|A1      |PROPERTY, SICK/INJURED/MEDICAL, ASSAULT & BATTERY             |\n",
            "|A15     |M/V ACCIDENT, INVESTIGATE PERSON, M/V                         |\n",
            "|A7      |SICK/INJURED/MEDICAL, INVESTIGATE PERSON, M/V ACCIDENT        |\n",
            "|B2      |M/V, VERBAL DISPUTE, SICK/INJURED/MEDICAL                     |\n",
            "|B3      |VERBAL DISPUTE, INVESTIGATE PERSON, M/V                       |\n",
            "|C11     |M/V, SICK/INJURED/MEDICAL, INVESTIGATE PERSON                 |\n",
            "|C6      |SICK/INJURED/MEDICAL, M/V, DRUGS                              |\n",
            "|D14     |TOWED MOTOR VEHICLE, M/V, SICK/INJURED/MEDICAL                |\n",
            "|D4      |LARCENY SHOPLIFTING $200 & OVER, LARCENY SHOPLIFTING, PROPERTY|\n",
            "|E13     |SICK/INJURED/MEDICAL, M/V, M/V ACCIDENT                       |\n",
            "|E18     |SICK/INJURED/MEDICAL, M/V, INVESTIGATE PERSON                 |\n",
            "|E5      |SICK/INJURED/MEDICAL, M/V, INVESTIGATE PERSON                 |\n",
            "+--------+--------------------------------------------------------------+\n",
            "\n"
          ]
        }
      ]
    },
    {
      "cell_type": "markdown",
      "source": [
        "Склеим всю информацию в общую таблицу"
      ],
      "metadata": {
        "id": "-tLi0543XwbA"
      }
    },
    {
      "cell_type": "code",
      "source": [
        "agregate_crime = total_crime.join(F.broadcast(final_crime), ['DISTRICT'])\n",
        "agregate_crime.show(truncate=False)"
      ],
      "metadata": {
        "colab": {
          "base_uri": "https://localhost:8080/"
        },
        "id": "MYjYVgOeEfqH",
        "outputId": "ebe92064-494e-48d0-df4b-9ecedc14affd"
      },
      "execution_count": null,
      "outputs": [
        {
          "output_type": "stream",
          "name": "stdout",
          "text": [
            "+--------+------------+------------------+------------------+--------------------------------------------------------------+\n",
            "|DISTRICT|crimes_total|lat               |lng               |frequent_crime_types                                          |\n",
            "+--------+------------+------------------+------------------+--------------------------------------------------------------+\n",
            "|C6      |20337       |42.2121224773585  |-70.85561028359758|SICK/INJURED/MEDICAL, M/V, DRUGS                              |\n",
            "|B2      |41788       |42.3160037118871  |-71.07569935580469|M/V, VERBAL DISPUTE, SICK/INJURED/MEDICAL                     |\n",
            "|C11     |39282       |42.29263737128488 |-71.05125984476538|M/V, SICK/INJURED/MEDICAL, INVESTIGATE PERSON                 |\n",
            "|E13     |16582       |42.30980363405438 |-71.0980047618084 |SICK/INJURED/MEDICAL, M/V, M/V ACCIDENT                       |\n",
            "|B3      |32197       |42.283059397131744|-71.07894938323396|VERBAL DISPUTE, INVESTIGATE PERSON, M/V                       |\n",
            "|E5      |11669       |42.19796996617494 |-71.00440886354875|SICK/INJURED/MEDICAL, M/V, INVESTIGATE PERSON                 |\n",
            "|A15     |5779        |42.17915540166574 |-70.74472495377354|M/V ACCIDENT, INVESTIGATE PERSON, M/V                         |\n",
            "|A7      |11839       |42.36070265992561 |-71.00394839443797|SICK/INJURED/MEDICAL, INVESTIGATE PERSON, M/V ACCIDENT        |\n",
            "|D14     |18879       |42.34350730061144 |-71.1312545647069 |TOWED MOTOR VEHICLE, M/V, SICK/INJURED/MEDICAL                |\n",
            "|D4      |33963       |42.341242479947674|-71.07725037365037|LARCENY SHOPLIFTING $200 & OVER, LARCENY SHOPLIFTING, PROPERTY|\n",
            "|E18     |16385       |42.26268049226358 |-71.11891999428089|SICK/INJURED/MEDICAL, M/V, INVESTIGATE PERSON                 |\n",
            "|A1      |30165       |42.33123074202031 |-71.0199188480901 |PROPERTY, SICK/INJURED/MEDICAL, ASSAULT & BATTERY             |\n",
            "+--------+------------+------------------+------------------+--------------------------------------------------------------+\n",
            "\n"
          ]
        }
      ]
    },
    {
      "cell_type": "code",
      "source": [
        "agregate_crime_all = agregate_crime.join(F.broadcast(crime_median), ['DISTRICT'])\n",
        "agregate_crime_all.show(truncate=False)"
      ],
      "metadata": {
        "colab": {
          "base_uri": "https://localhost:8080/"
        },
        "id": "P52GqshXbAH5",
        "outputId": "ace9af0a-c22f-4b04-f34e-f5cac4a0a60d"
      },
      "execution_count": null,
      "outputs": [
        {
          "output_type": "stream",
          "name": "stdout",
          "text": [
            "+--------+------------+------------------+------------------+--------------------------------------------------------------+--------------+\n",
            "|DISTRICT|crimes_total|lat               |lng               |frequent_crime_types                                          |crimes_monthly|\n",
            "+--------+------------+------------------+------------------+--------------------------------------------------------------+--------------+\n",
            "|C6      |20337       |42.2121224773585  |-70.85561028359758|SICK/INJURED/MEDICAL, M/V, DRUGS                              |532           |\n",
            "|B2      |41788       |42.3160037118871  |-71.07569935580469|M/V, VERBAL DISPUTE, SICK/INJURED/MEDICAL                     |1133          |\n",
            "|C11     |39282       |42.29263737128488 |-71.05125984476538|M/V, SICK/INJURED/MEDICAL, INVESTIGATE PERSON                 |963           |\n",
            "|E13     |16582       |42.30980363405438 |-71.0980047618084 |SICK/INJURED/MEDICAL, M/V, M/V ACCIDENT                       |401           |\n",
            "|B3      |32197       |42.283059397131744|-71.07894938323396|VERBAL DISPUTE, INVESTIGATE PERSON, M/V                       |797           |\n",
            "|E5      |11669       |42.19796996617494 |-71.00440886354875|SICK/INJURED/MEDICAL, M/V, INVESTIGATE PERSON                 |304           |\n",
            "|A15     |5779        |42.17915540166574 |-70.74472495377354|M/V ACCIDENT, INVESTIGATE PERSON, M/V                         |151           |\n",
            "|A7      |11839       |42.36070265992561 |-71.00394839443797|SICK/INJURED/MEDICAL, INVESTIGATE PERSON, M/V ACCIDENT        |318           |\n",
            "|D14     |18879       |42.34350730061144 |-71.1312545647069 |TOWED MOTOR VEHICLE, M/V, SICK/INJURED/MEDICAL                |469           |\n",
            "|D4      |33963       |42.341242479947674|-71.07725037365037|LARCENY SHOPLIFTING $200 & OVER, LARCENY SHOPLIFTING, PROPERTY|957           |\n",
            "|E18     |16385       |42.26268049226358 |-71.11891999428089|SICK/INJURED/MEDICAL, M/V, INVESTIGATE PERSON                 |399           |\n",
            "|A1      |30165       |42.33123074202031 |-71.0199188480901 |PROPERTY, SICK/INJURED/MEDICAL, ASSAULT & BATTERY             |778           |\n",
            "+--------+------------+------------------+------------------+--------------------------------------------------------------+--------------+\n",
            "\n"
          ]
        }
      ]
    },
    {
      "cell_type": "code",
      "source": [
        "agregate_crime_all.write.save('agregate_crime_all.parquet', format='parquet')"
      ],
      "metadata": {
        "id": "y8c0icDrEfsh"
      },
      "execution_count": null,
      "outputs": []
    },
    {
      "cell_type": "markdown",
      "source": [
        "Убедимся, что все работает, скачаем файл и откроем его"
      ],
      "metadata": {
        "id": "aGeFvdriP883"
      }
    },
    {
      "cell_type": "code",
      "source": [
        "codes = spark.read.csv('offense_codes.csv', header = True)"
      ],
      "metadata": {
        "id": "sMxdHTTPEfx6"
      },
      "execution_count": null,
      "outputs": []
    },
    {
      "cell_type": "code",
      "source": [
        "# Чтение parquet файла\n",
        "parquet_file = '/content/part-00000-25bcf0a2-0132-445c-a069-92d42d23bdd4-c000.snappy.parquet'\n",
        "data1 = spark.read.parquet(parquet_file)"
      ],
      "metadata": {
        "id": "AE2Lo6M0Ef0D"
      },
      "execution_count": null,
      "outputs": []
    },
    {
      "cell_type": "code",
      "source": [
        "data1.show()"
      ],
      "metadata": {
        "colab": {
          "base_uri": "https://localhost:8080/"
        },
        "id": "0p0NYceKEf2R",
        "outputId": "63798d39-ba80-4838-a2b8-cce9c73fe128"
      },
      "execution_count": null,
      "outputs": [
        {
          "output_type": "stream",
          "name": "stdout",
          "text": [
            "+--------+------------+------------------+------------------+--------------------+--------------+\n",
            "|DISTRICT|crimes_total|               lat|               lng|frequent_crime_types|crimes_monthly|\n",
            "+--------+------------+------------------+------------------+--------------------+--------------+\n",
            "|      C6|       20337|  42.2121224773585|-70.85561028359758|SICK/INJURED/MEDI...|           532|\n",
            "|      B2|       41788|  42.3160037118871|-71.07569935580469|M/V, VERBAL DISPU...|          1133|\n",
            "|     C11|       39282| 42.29263737128488|-71.05125984476538|M/V, SICK/INJURED...|           963|\n",
            "|     E13|       16582| 42.30980363405438| -71.0980047618084|SICK/INJURED/MEDI...|           401|\n",
            "|      B3|       32197|42.283059397131744|-71.07894938323396|VERBAL DISPUTE, I...|           797|\n",
            "|      E5|       11669| 42.19796996617494|-71.00440886354875|SICK/INJURED/MEDI...|           304|\n",
            "|     A15|        5779| 42.17915540166574|-70.74472495377354|M/V ACCIDENT, INV...|           151|\n",
            "|      A7|       11839| 42.36070265992561|-71.00394839443797|SICK/INJURED/MEDI...|           318|\n",
            "|     D14|       18879| 42.34350730061144| -71.1312545647069|TOWED MOTOR VEHIC...|           469|\n",
            "|      D4|       33963|42.341242479947674|-71.07725037365037|LARCENY SHOPLIFTI...|           957|\n",
            "|     E18|       16385| 42.26268049226358|-71.11891999428089|SICK/INJURED/MEDI...|           399|\n",
            "|      A1|       30165| 42.33123074202031| -71.0199188480901|PROPERTY, SICK/IN...|           778|\n",
            "+--------+------------+------------------+------------------+--------------------+--------------+\n",
            "\n"
          ]
        }
      ]
    }
  ]
}